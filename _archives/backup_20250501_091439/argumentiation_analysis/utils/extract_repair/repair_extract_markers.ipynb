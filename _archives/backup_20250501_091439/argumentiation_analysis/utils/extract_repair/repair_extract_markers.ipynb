{
 "cells": [
  {
   "cell_type": "markdown",
   "metadata": {},
   "source": [
    "# Réparation des bornes défectueuses dans les extraits\n",
    "\n",
    "Ce notebook permet d'exécuter interactivement le script de réparation des bornes défectueuses dans les extraits définis dans `extract_sources.json`.\n",
    "\n",
    "## Contexte\n",
    "\n",
    "Notre application d'analyse d'argumentation utilise un système d'extraits définis par des marqueurs de début et de fin dans des textes sources. Certains extraits présentent des problèmes de bornes (marqueurs introuvables ou incorrects), notamment dans le corpus de discours d'Hitler qui est particulièrement volumineux.\n",
    "\n",
    "Ce notebook permet de :\n",
    "1. Analyser les extraits existants pour détecter les bornes défectueuses\n",
    "2. Proposer des corrections automatiques pour les bornes défectueuses\n",
    "3. Valider les corrections proposées\n",
    "4. Sauvegarder les définitions corrigées\n",
    "5. Générer un rapport détaillé des modifications"
   ]
  },
  {
   "cell_type": "markdown",
   "metadata": {},
   "source": [
    "## 1. Importation des modules nécessaires"
   ]
  },
  {
   "cell_type": "code",
   "execution_count": 1,
   "metadata": {},
   "outputs": [],
   "source": [
    "import os\n",
    "import re\n",
    "import json\n",
    "import logging\n",
    "import asyncio\n",
    "from pathlib import Path\n",
    "from typing import List, Dict, Any, Tuple, Optional, Union\n",
    "import semantic_kernel as sk\n",
    "from semantic_kernel.contents import ChatMessageContent\n",
    "from semantic_kernel.agents import ChatCompletionAgent\n",
    "from semantic_kernel.functions.kernel_arguments import KernelArguments\n",
    "\n",
    "# Imports depuis les modules du projet\n",
    "from ui.config import ENCRYPTION_KEY, CONFIG_FILE, CONFIG_FILE_JSON\n",
    "from ui.utils import load_from_cache, reconstruct_url\n",
    "from ui.extract_utils import (\n",
    "    load_source_text, extract_text_with_markers, find_similar_text,\n",
    "    load_extract_definitions_safely, save_extract_definitions_safely\n",
    ")\n",
    "from core.llm_service import create_llm_service\n",
    "\n",
    "# Import du script de réparation\n",
    "from repair_extract_markers import (\n",
    "    ExtractRepairPlugin, setup_agents, analyze_extract,\n",
    "    repair_extract_markers, generate_report\n",
    ")"
   ]
  },
  {
   "cell_type": "markdown",
   "metadata": {},
   "source": [
    "## 2. Configuration du logging"
   ]
  },
  {
   "cell_type": "code",
   "execution_count": 2,
   "metadata": {},
   "outputs": [],
   "source": [
    "# Configuration du logging\n",
    "logging.basicConfig(\n",
    "    level=logging.INFO,\n",
    "    format='%(asctime)s [%(levelname)s] [%(name)s] %(message)s',\n",
    "    datefmt='%H:%M:%S'\n",
    ")\n",
    "logger = logging.getLogger(\"RepairExtractMarkers\")\n",
    "\n",
    "# Création d'un handler pour écrire les logs dans un fichier\n",
    "file_handler = logging.FileHandler(\"repair_extract_markers.log\")\n",
    "file_handler.setFormatter(logging.Formatter('%(asctime)s [%(levelname)s] [%(name)s] %(message)s', datefmt='%H:%M:%S'))\n",
    "logger.addHandler(file_handler)"
   ]
  },
  {
   "cell_type": "markdown",
   "metadata": {},
   "source": [
    "## 3. Chargement des définitions d'extraits"
   ]
  },
  {
   "cell_type": "code",
   "execution_count": 3,
   "metadata": {},
   "outputs": [
    {
     "name": "stderr",
     "output_type": "stream",
     "text": [
      "22:01:18 [INFO] [App.UI.Utils] Chargement et déchiffrement de 'c:\\dev\\2025-Epita-Intelligence-Symbolique\\argumentiation_analysis\\data\\extract_sources.json.gz.enc'...\n",
      "22:01:18 [INFO] [App.UI.Utils] ✅ Définitions chargées et déchiffrées.\n",
      "22:01:18 [INFO] [App.UI.Utils] -> 4 définitions chargées depuis fichier.\n",
      "22:01:18 [INFO] [App.UI.ExtractUtils] ✅ Définitions chargées depuis c:\\dev\\2025-Epita-Intelligence-Symbolique\\argumentiation_analysis\\data\\extract_sources.json.gz.enc\n",
      "22:01:18 [INFO] [RepairExtractMarkers] 4 sources chargées.\n"
     ]
    },
    {
     "name": "stdout",
     "output_type": "stream",
     "text": [
      "\n",
      "=== Résumé des sources et extraits ===\n",
      "Source 1: Lincoln-Douglas Débat 1 (NPS) - 5 extraits\n",
      "Source 2: Lincoln-Douglas Débat 2 (NPS) - 5 extraits\n",
      "Source 3: Kremlin Discours 21/02/2022 - 5 extraits\n",
      "Source 4: Hitler Discours Collection (PDF) - 10 extraits\n",
      "\n",
      "Total: 4 sources, 25 extraits\n"
     ]
    }
   ],
   "source": [
    "# Charger les définitions d'extraits\n",
    "extract_definitions, error_message = load_extract_definitions_safely(CONFIG_FILE, ENCRYPTION_KEY, CONFIG_FILE_JSON)\n",
    "if error_message:\n",
    "    logger.error(f\"Erreur lors du chargement des définitions d'extraits: {error_message}\")\n",
    "else:\n",
    "    logger.info(f\"{len(extract_definitions)} sources chargées.\")\n",
    "    \n",
    "# Afficher un résumé des sources et extraits\n",
    "print(f\"\\n=== Résumé des sources et extraits ===\")\n",
    "total_extracts = 0\n",
    "for i, source in enumerate(extract_definitions):\n",
    "    source_name = source.get(\"source_name\", f\"Source #{i}\")\n",
    "    extracts = source.get(\"extracts\", [])\n",
    "    total_extracts += len(extracts)\n",
    "    print(f\"Source {i+1}: {source_name} - {len(extracts)} extraits\")\n",
    "print(f\"\\nTotal: {len(extract_definitions)} sources, {total_extracts} extraits\")"
   ]
  },
  {
   "cell_type": "markdown",
   "metadata": {},
   "source": [
    "## 4. Analyse des extraits existants"
   ]
  },
  {
   "cell_type": "code",
   "execution_count": 4,
   "metadata": {},
   "outputs": [
    {
     "name": "stderr",
     "output_type": "stream",
     "text": [
      "22:01:18 [INFO] [App.UI.Utils]    -> Lecture depuis cache : 0087ebbffeb0b4c12d3042a72aa0cc29fdf73576de25647dc619141f0ecc2109.txt\n",
      "22:01:18 [INFO] [App.UI.Utils]    -> Lecture depuis cache : 587a4145d0b66f5ded5cf201f74084815e4bfb4044e720d0d9dac49f6c50d722.txt\n",
      "22:01:18 [INFO] [App.UI.Utils]    -> Lecture depuis cache : 4cf2d4853745719f6504a54610237738ad016de4f64176c3e8f5218f8fd2c01b.txt\n",
      "22:01:18 [INFO] [App.UI.Utils]    -> Lecture depuis cache : 8c10d6f095f6c568c5c40c8c94c2dbfc6e21dadf888fcd5d767513968d06e5ba.txt\n"
     ]
    },
    {
     "name": "stdout",
     "output_type": "stream",
     "text": [
      "\n",
      "Analyse de la source 'Lincoln-Douglas Débat 1 (NPS)'...\n",
      "  ✅ Texte source chargé (99054 caractères)\n",
      "  ✅ Extrait '1. Débat Complet (Ottawa, 1858)' valide\n",
      "  ✅ Extrait '2. Discours Principal de Lincoln' valide\n",
      "  ✅ Extrait '3. Discours d'Ouverture de Douglas' valide\n",
      "  ❌ Extrait '4. Lincoln sur Droits Naturels/Égalité' invalide: ⚠️ Marqueur fin non trouvé. \n",
      "  ✅ Extrait '5. Douglas sur Race/Dred Scott' valide\n",
      "\n",
      "Analyse de la source 'Lincoln-Douglas Débat 2 (NPS)'...\n",
      "  ✅ Texte source chargé (102373 caractères)\n",
      "  ✅ Extrait '1. Débat Complet (Freeport, 1858)' valide\n",
      "  ✅ Extrait '2. Discours Principal de Douglas' valide\n",
      "  ✅ Extrait '3. Discours d'Ouverture de Lincoln' valide\n",
      "  ✅ Extrait '4. Doctrine de Freeport (Douglas)' valide\n",
      "  ❌ Extrait '5. Lincoln répond aux 7 questions' invalide: ⚠️ Marqueur début non trouvé. ⚠️ Marqueur fin non trouvé. \n",
      "\n",
      "Analyse de la source 'Kremlin Discours 21/02/2022'...\n",
      "  ✅ Texte source chargé (46415 caractères)\n",
      "  ❌ Extrait '1. Discours Complet' invalide: ⚠️ Marqueur début non trouvé. \n",
      "  ❌ Extrait '2. Argument Historique Ukraine' invalide: ⚠️ Marqueur début non trouvé. ⚠️ Marqueur fin non trouvé. \n",
      "  ❌ Extrait '3. Menace OTAN' invalide: ⚠️ Marqueur début non trouvé. ⚠️ Marqueur fin non trouvé. \n",
      "  ❌ Extrait '4. Décommunisation selon Poutine' invalide: ⚠️ Marqueur début non trouvé. ⚠️ Marqueur fin non trouvé. \n",
      "  ❌ Extrait '5. Décision Reconnaissance Donbass' invalide: ⚠️ Marqueur début non trouvé. ⚠️ Marqueur fin non trouvé. \n",
      "\n",
      "Analyse de la source 'Hitler Discours Collection (PDF)'...\n",
      "  ✅ Texte source chargé (3057900 caractères)\n",
      "  ❌ Extrait '1. 1923.04.13 - Munich' invalide: ⚠️ Marqueur fin non trouvé. \n",
      "  ❌ Extrait '2. 1923.04.24 - Munich' invalide: ⚠️ Marqueur fin non trouvé. \n",
      "  ✅ Extrait '3. 1923.04.27 - Munich' valide\n",
      "  ❌ Extrait '4. 1933.03.23 - Duel Otto Wels' invalide: ⚠️ Marqueur fin non trouvé. \n",
      "  ❌ Extrait '5. 1933.05.01 - Lustgarten' invalide: ⚠️ Marqueur fin non trouvé. \n",
      "  ❌ Extrait '6. 1936.03.09 - Interview Ward Price' invalide: ⚠️ Marqueur début non trouvé. ⚠️ Marqueur fin non trouvé. \n",
      "  ❌ Extrait '7. 1936.03.12 - Karlsruhe' invalide: ⚠️ Marqueur fin non trouvé. \n",
      "  ✅ Extrait '8. 1936.03.20 - Hambourg' valide\n",
      "  ❌ Extrait '9. 1939.01.30 - Reichstag (Prophétie)' invalide: ⚠️ Marqueur fin non trouvé. \n",
      "  ✅ Extrait '10. 1942.11.09 - Löwenbräukeller' valide\n",
      "\n",
      "=== Résumé de l'analyse ===\n",
      "Extraits valides: 11\n",
      "Extraits invalides: 14\n",
      "\n",
      "=== Extraits invalides ===\n",
      "1. Lincoln-Douglas Débat 1 (NPS) -> 4. Lincoln sur Droits Naturels/Égalité\n",
      "   Statut: ⚠️ Marqueur fin non trouvé. \n",
      "   Marqueur début trouvé: Oui\n",
      "   Marqueur fin trouvé: Non\n",
      "2. Lincoln-Douglas Débat 2 (NPS) -> 5. Lincoln répond aux 7 questions\n",
      "   Statut: ⚠️ Marqueur début non trouvé. ⚠️ Marqueur fin non trouvé. \n",
      "   Marqueur début trouvé: Non\n",
      "   Marqueur fin trouvé: Non\n",
      "3. Kremlin Discours 21/02/2022 -> 1. Discours Complet\n",
      "   Statut: ⚠️ Marqueur début non trouvé. \n",
      "   Marqueur début trouvé: Non\n",
      "   Marqueur fin trouvé: Oui\n",
      "4. Kremlin Discours 21/02/2022 -> 2. Argument Historique Ukraine\n",
      "   Statut: ⚠️ Marqueur début non trouvé. ⚠️ Marqueur fin non trouvé. \n",
      "   Marqueur début trouvé: Non\n",
      "   Marqueur fin trouvé: Non\n",
      "5. Kremlin Discours 21/02/2022 -> 3. Menace OTAN\n",
      "   Statut: ⚠️ Marqueur début non trouvé. ⚠️ Marqueur fin non trouvé. \n",
      "   Marqueur début trouvé: Non\n",
      "   Marqueur fin trouvé: Non\n",
      "6. Kremlin Discours 21/02/2022 -> 4. Décommunisation selon Poutine\n",
      "   Statut: ⚠️ Marqueur début non trouvé. ⚠️ Marqueur fin non trouvé. \n",
      "   Marqueur début trouvé: Non\n",
      "   Marqueur fin trouvé: Non\n",
      "7. Kremlin Discours 21/02/2022 -> 5. Décision Reconnaissance Donbass\n",
      "   Statut: ⚠️ Marqueur début non trouvé. ⚠️ Marqueur fin non trouvé. \n",
      "   Marqueur début trouvé: Non\n",
      "   Marqueur fin trouvé: Non\n",
      "8. Hitler Discours Collection (PDF) -> 1. 1923.04.13 - Munich\n",
      "   Statut: ⚠️ Marqueur fin non trouvé. \n",
      "   Marqueur début trouvé: Oui\n",
      "   Marqueur fin trouvé: Non\n",
      "9. Hitler Discours Collection (PDF) -> 2. 1923.04.24 - Munich\n",
      "   Statut: ⚠️ Marqueur fin non trouvé. \n",
      "   Marqueur début trouvé: Oui\n",
      "   Marqueur fin trouvé: Non\n",
      "10. Hitler Discours Collection (PDF) -> 4. 1933.03.23 - Duel Otto Wels\n",
      "   Statut: ⚠️ Marqueur fin non trouvé. \n",
      "   Marqueur début trouvé: Oui\n",
      "   Marqueur fin trouvé: Non\n",
      "11. Hitler Discours Collection (PDF) -> 5. 1933.05.01 - Lustgarten\n",
      "   Statut: ⚠️ Marqueur fin non trouvé. \n",
      "   Marqueur début trouvé: Oui\n",
      "   Marqueur fin trouvé: Non\n",
      "12. Hitler Discours Collection (PDF) -> 6. 1936.03.09 - Interview Ward Price\n",
      "   Statut: ⚠️ Marqueur début non trouvé. ⚠️ Marqueur fin non trouvé. \n",
      "   Marqueur début trouvé: Non\n",
      "   Marqueur fin trouvé: Non\n",
      "13. Hitler Discours Collection (PDF) -> 7. 1936.03.12 - Karlsruhe\n",
      "   Statut: ⚠️ Marqueur fin non trouvé. \n",
      "   Marqueur début trouvé: Oui\n",
      "   Marqueur fin trouvé: Non\n",
      "14. Hitler Discours Collection (PDF) -> 9. 1939.01.30 - Reichstag (Prophétie)\n",
      "   Statut: ⚠️ Marqueur fin non trouvé. \n",
      "   Marqueur début trouvé: Oui\n",
      "   Marqueur fin trouvé: Non\n"
     ]
    }
   ],
   "source": [
    "# Fonction pour analyser les extraits existants sans les modifier\n",
    "def analyze_extracts(extract_definitions):\n",
    "    results = {\n",
    "        \"valid\": [],\n",
    "        \"invalid\": []\n",
    "    }\n",
    "    \n",
    "    for source_idx, source_info in enumerate(extract_definitions):\n",
    "        source_name = source_info.get(\"source_name\", f\"Source #{source_idx}\")\n",
    "        print(f\"\\nAnalyse de la source '{source_name}'...\")\n",
    "        \n",
    "        # Chargement du texte source\n",
    "        source_text, url = load_source_text(source_info)\n",
    "        if not source_text:\n",
    "            print(f\"  ❌ Impossible de charger le texte source: {url}\")\n",
    "            continue\n",
    "        \n",
    "        print(f\"  ✅ Texte source chargé ({len(source_text)} caractères)\")\n",
    "        \n",
    "        extracts = source_info.get(\"extracts\", [])\n",
    "        for extract_idx, extract_info in enumerate(extracts):\n",
    "            extract_name = extract_info.get(\"extract_name\", f\"Extrait #{extract_idx}\")\n",
    "            start_marker = extract_info.get(\"start_marker\", \"\")\n",
    "            end_marker = extract_info.get(\"end_marker\", \"\")\n",
    "            template_start = extract_info.get(\"template_start\", \"\")\n",
    "            \n",
    "            # Extraction du texte avec les marqueurs actuels\n",
    "            extracted_text, status, start_found, end_found = extract_text_with_markers(\n",
    "                source_text, start_marker, end_marker, template_start\n",
    "            )\n",
    "            \n",
    "            # Afficher le résultat\n",
    "            if start_found and end_found:\n",
    "                print(f\"  ✅ Extrait '{extract_name}' valide\")\n",
    "                results[\"valid\"].append({\n",
    "                    \"source_name\": source_name,\n",
    "                    \"extract_name\": extract_name,\n",
    "                    \"status\": status\n",
    "                })\n",
    "            else:\n",
    "                print(f\"  ❌ Extrait '{extract_name}' invalide: {status}\")\n",
    "                results[\"invalid\"].append({\n",
    "                    \"source_name\": source_name,\n",
    "                    \"extract_name\": extract_name,\n",
    "                    \"status\": status,\n",
    "                    \"start_found\": start_found,\n",
    "                    \"end_found\": end_found\n",
    "                })\n",
    "    \n",
    "    return results\n",
    "\n",
    "# Analyser les extraits existants\n",
    "analysis_results = analyze_extracts(extract_definitions)\n",
    "\n",
    "# Afficher un résumé des résultats\n",
    "print(f\"\\n=== Résumé de l'analyse ===\")\n",
    "print(f\"Extraits valides: {len(analysis_results['valid'])}\")\n",
    "print(f\"Extraits invalides: {len(analysis_results['invalid'])}\")\n",
    "\n",
    "# Afficher les extraits invalides\n",
    "if analysis_results['invalid']:\n",
    "    print(f\"\\n=== Extraits invalides ===\")\n",
    "    for i, invalid in enumerate(analysis_results['invalid']):\n",
    "        print(f\"{i+1}. {invalid['source_name']} -> {invalid['extract_name']}\")\n",
    "        print(f\"   Statut: {invalid['status']}\")\n",
    "        print(f\"   Marqueur début trouvé: {'Oui' if invalid['start_found'] else 'Non'}\")\n",
    "        print(f\"   Marqueur fin trouvé: {'Oui' if invalid['end_found'] else 'Non'}\")"
   ]
  },
  {
   "cell_type": "markdown",
   "metadata": {},
   "source": [
    "## 5. Réparation des bornes défectueuses"
   ]
  },
  {
   "cell_type": "code",
   "execution_count": 5,
   "metadata": {},
   "outputs": [
    {
     "name": "stderr",
     "output_type": "stream",
     "text": [
      "22:01:18 [INFO] [Orchestration.LLM] --- Configuration du Service LLM (global_llm_service) ---\n",
      "22:01:18 [INFO] [Orchestration.LLM] Configuration Service: OpenAIChatCompletion...\n",
      "22:01:18 [INFO] [Orchestration.LLM] Service LLM OpenAI (gpt-4o-mini) créé avec ID 'global_llm_service'.\n",
      "22:01:18 [INFO] [RepairExtractMarkers] Service LLM créé: global_llm_service\n"
     ]
    }
   ],
   "source": [
    "# Créer le service LLM\n",
    "llm_service = create_llm_service()\n",
    "if not llm_service:\n",
    "    logger.error(\"Impossible de créer le service LLM.\")\n",
    "else:\n",
    "    logger.info(f\"Service LLM créé: {llm_service.service_id}\")"
   ]
  },
  {
   "cell_type": "code",
   "execution_count": 6,
   "metadata": {},
   "outputs": [],
   "source": [
    "# Option pour filtrer les sources (corpus Hitler uniquement)\n",
    "filter_hitler_only = False  # Mettre à True pour traiter uniquement le corpus de discours d'Hitler\n",
    "\n",
    "# Filtrer les sources si l'option est activée\n",
    "filtered_definitions = extract_definitions\n",
    "if filter_hitler_only:\n",
    "    original_count = len(filtered_definitions)\n",
    "    filtered_definitions = [\n",
    "        source for source in filtered_definitions \n",
    "        if \"hitler\" in source.get(\"source_name\", \"\").lower()\n",
    "    ]\n",
    "    print(f\"Filtrage des sources: {len(filtered_definitions)}/{original_count} sources retenues (corpus Hitler).\")"
   ]
  },
  {
   "cell_type": "code",
   "execution_count": 7,
   "metadata": {},
   "outputs": [
    {
     "name": "stderr",
     "output_type": "stream",
     "text": [
      "22:01:18 [INFO] [RepairExtractMarkers] Initialisation de la réparation des bornes défectueuses...\n",
      "22:01:18 [INFO] [RepairExtractMarkers] Configuration des agents...\n",
      "22:01:18 [INFO] [RepairExtractMarkers] Agents configurés.\n",
      "22:01:18 [INFO] [RepairExtractMarkers] Analyse de la source 'Lincoln-Douglas Débat 1 (NPS)'...\n",
      "22:01:18 [INFO] [RepairExtractMarkers] Analyse de l'extrait '1. Débat Complet (Ottawa, 1858)' de la source 'Lincoln-Douglas Débat 1 (NPS)'...\n",
      "22:01:18 [INFO] [App.UI.Utils]    -> Lecture depuis cache : 0087ebbffeb0b4c12d3042a72aa0cc29fdf73576de25647dc619141f0ecc2109.txt\n",
      "22:01:18 [INFO] [RepairExtractMarkers] Extrait '1. Débat Complet (Ottawa, 1858)' valide. Aucune correction nécessaire.\n",
      "22:01:18 [INFO] [RepairExtractMarkers] Analyse de l'extrait '2. Discours Principal de Lincoln' de la source 'Lincoln-Douglas Débat 1 (NPS)'...\n",
      "22:01:18 [INFO] [App.UI.Utils]    -> Lecture depuis cache : 0087ebbffeb0b4c12d3042a72aa0cc29fdf73576de25647dc619141f0ecc2109.txt\n",
      "22:01:18 [INFO] [RepairExtractMarkers] Extrait '2. Discours Principal de Lincoln' valide. Aucune correction nécessaire.\n",
      "22:01:18 [INFO] [RepairExtractMarkers] Analyse de l'extrait '3. Discours d'Ouverture de Douglas' de la source 'Lincoln-Douglas Débat 1 (NPS)'...\n",
      "22:01:18 [INFO] [App.UI.Utils]    -> Lecture depuis cache : 0087ebbffeb0b4c12d3042a72aa0cc29fdf73576de25647dc619141f0ecc2109.txt\n",
      "22:01:18 [INFO] [RepairExtractMarkers] Extrait '3. Discours d'Ouverture de Douglas' valide. Aucune correction nécessaire.\n",
      "22:01:18 [INFO] [RepairExtractMarkers] Analyse de l'extrait '4. Lincoln sur Droits Naturels/Égalité' de la source 'Lincoln-Douglas Débat 1 (NPS)'...\n",
      "22:01:18 [INFO] [App.UI.Utils]    -> Lecture depuis cache : 0087ebbffeb0b4c12d3042a72aa0cc29fdf73576de25647dc619141f0ecc2109.txt\n",
      "22:01:18 [INFO] [RepairExtractMarkers] Extrait '4. Lincoln sur Droits Naturels/Égalité' invalide. Demande de réparation...\n",
      "22:01:18 [ERROR] [RepairExtractMarkers] Erreur lors de l'invocation de l'agent de réparation: ChatCompletionAgent.invoke() takes 1 positional argument but 2 were given\n",
      "22:01:18 [INFO] [RepairExtractMarkers] Aucune correction proposée pour l'extrait '4. Lincoln sur Droits Naturels/Égalité'.\n",
      "22:01:18 [INFO] [RepairExtractMarkers] Analyse de l'extrait '5. Douglas sur Race/Dred Scott' de la source 'Lincoln-Douglas Débat 1 (NPS)'...\n",
      "22:01:18 [INFO] [App.UI.Utils]    -> Lecture depuis cache : 0087ebbffeb0b4c12d3042a72aa0cc29fdf73576de25647dc619141f0ecc2109.txt\n",
      "22:01:18 [INFO] [RepairExtractMarkers] Extrait '5. Douglas sur Race/Dred Scott' valide. Aucune correction nécessaire.\n",
      "22:01:18 [INFO] [RepairExtractMarkers] Analyse de la source 'Lincoln-Douglas Débat 2 (NPS)'...\n",
      "22:01:18 [INFO] [RepairExtractMarkers] Analyse de l'extrait '1. Débat Complet (Freeport, 1858)' de la source 'Lincoln-Douglas Débat 2 (NPS)'...\n",
      "22:01:18 [INFO] [App.UI.Utils]    -> Lecture depuis cache : 587a4145d0b66f5ded5cf201f74084815e4bfb4044e720d0d9dac49f6c50d722.txt\n",
      "22:01:18 [INFO] [RepairExtractMarkers] Extrait '1. Débat Complet (Freeport, 1858)' valide. Aucune correction nécessaire.\n",
      "22:01:18 [INFO] [RepairExtractMarkers] Analyse de l'extrait '2. Discours Principal de Douglas' de la source 'Lincoln-Douglas Débat 2 (NPS)'...\n",
      "22:01:18 [INFO] [App.UI.Utils]    -> Lecture depuis cache : 587a4145d0b66f5ded5cf201f74084815e4bfb4044e720d0d9dac49f6c50d722.txt\n",
      "22:01:18 [INFO] [RepairExtractMarkers] Extrait '2. Discours Principal de Douglas' valide. Aucune correction nécessaire.\n",
      "22:01:18 [INFO] [RepairExtractMarkers] Analyse de l'extrait '3. Discours d'Ouverture de Lincoln' de la source 'Lincoln-Douglas Débat 2 (NPS)'...\n",
      "22:01:18 [INFO] [App.UI.Utils]    -> Lecture depuis cache : 587a4145d0b66f5ded5cf201f74084815e4bfb4044e720d0d9dac49f6c50d722.txt\n",
      "22:01:18 [INFO] [RepairExtractMarkers] Extrait '3. Discours d'Ouverture de Lincoln' valide. Aucune correction nécessaire.\n",
      "22:01:18 [INFO] [RepairExtractMarkers] Analyse de l'extrait '4. Doctrine de Freeport (Douglas)' de la source 'Lincoln-Douglas Débat 2 (NPS)'...\n",
      "22:01:18 [INFO] [App.UI.Utils]    -> Lecture depuis cache : 587a4145d0b66f5ded5cf201f74084815e4bfb4044e720d0d9dac49f6c50d722.txt\n",
      "22:01:18 [INFO] [RepairExtractMarkers] Extrait '4. Doctrine de Freeport (Douglas)' valide. Aucune correction nécessaire.\n",
      "22:01:18 [INFO] [RepairExtractMarkers] Analyse de l'extrait '5. Lincoln répond aux 7 questions' de la source 'Lincoln-Douglas Débat 2 (NPS)'...\n",
      "22:01:18 [INFO] [App.UI.Utils]    -> Lecture depuis cache : 587a4145d0b66f5ded5cf201f74084815e4bfb4044e720d0d9dac49f6c50d722.txt\n",
      "22:01:18 [INFO] [RepairExtractMarkers] Extrait '5. Lincoln répond aux 7 questions' invalide. Demande de réparation...\n",
      "22:01:18 [ERROR] [RepairExtractMarkers] Erreur lors de l'invocation de l'agent de réparation: ChatCompletionAgent.invoke() takes 1 positional argument but 2 were given\n",
      "22:01:18 [INFO] [RepairExtractMarkers] Aucune correction proposée pour l'extrait '5. Lincoln répond aux 7 questions'.\n",
      "22:01:18 [INFO] [RepairExtractMarkers] Analyse de la source 'Kremlin Discours 21/02/2022'...\n",
      "22:01:18 [INFO] [RepairExtractMarkers] Analyse de l'extrait '1. Discours Complet' de la source 'Kremlin Discours 21/02/2022'...\n",
      "22:01:18 [INFO] [App.UI.Utils]    -> Lecture depuis cache : 4cf2d4853745719f6504a54610237738ad016de4f64176c3e8f5218f8fd2c01b.txt\n",
      "22:01:18 [INFO] [RepairExtractMarkers] Extrait '1. Discours Complet' invalide. Demande de réparation...\n",
      "22:01:18 [ERROR] [RepairExtractMarkers] Erreur lors de l'invocation de l'agent de réparation: ChatCompletionAgent.invoke() takes 1 positional argument but 2 were given\n",
      "22:01:18 [INFO] [RepairExtractMarkers] Aucune correction proposée pour l'extrait '1. Discours Complet'.\n",
      "22:01:18 [INFO] [RepairExtractMarkers] Analyse de l'extrait '2. Argument Historique Ukraine' de la source 'Kremlin Discours 21/02/2022'...\n",
      "22:01:18 [INFO] [App.UI.Utils]    -> Lecture depuis cache : 4cf2d4853745719f6504a54610237738ad016de4f64176c3e8f5218f8fd2c01b.txt\n",
      "22:01:18 [INFO] [RepairExtractMarkers] Extrait '2. Argument Historique Ukraine' invalide. Demande de réparation...\n",
      "22:01:18 [ERROR] [RepairExtractMarkers] Erreur lors de l'invocation de l'agent de réparation: ChatCompletionAgent.invoke() takes 1 positional argument but 2 were given\n",
      "22:01:18 [INFO] [RepairExtractMarkers] Aucune correction proposée pour l'extrait '2. Argument Historique Ukraine'.\n",
      "22:01:18 [INFO] [RepairExtractMarkers] Analyse de l'extrait '3. Menace OTAN' de la source 'Kremlin Discours 21/02/2022'...\n",
      "22:01:18 [INFO] [App.UI.Utils]    -> Lecture depuis cache : 4cf2d4853745719f6504a54610237738ad016de4f64176c3e8f5218f8fd2c01b.txt\n",
      "22:01:18 [INFO] [RepairExtractMarkers] Extrait '3. Menace OTAN' invalide. Demande de réparation...\n",
      "22:01:18 [ERROR] [RepairExtractMarkers] Erreur lors de l'invocation de l'agent de réparation: ChatCompletionAgent.invoke() takes 1 positional argument but 2 were given\n",
      "22:01:18 [INFO] [RepairExtractMarkers] Aucune correction proposée pour l'extrait '3. Menace OTAN'.\n",
      "22:01:18 [INFO] [RepairExtractMarkers] Analyse de l'extrait '4. Décommunisation selon Poutine' de la source 'Kremlin Discours 21/02/2022'...\n",
      "22:01:18 [INFO] [App.UI.Utils]    -> Lecture depuis cache : 4cf2d4853745719f6504a54610237738ad016de4f64176c3e8f5218f8fd2c01b.txt\n",
      "22:01:18 [INFO] [RepairExtractMarkers] Extrait '4. Décommunisation selon Poutine' invalide. Demande de réparation...\n",
      "22:01:18 [ERROR] [RepairExtractMarkers] Erreur lors de l'invocation de l'agent de réparation: ChatCompletionAgent.invoke() takes 1 positional argument but 2 were given\n",
      "22:01:18 [INFO] [RepairExtractMarkers] Aucune correction proposée pour l'extrait '4. Décommunisation selon Poutine'.\n",
      "22:01:18 [INFO] [RepairExtractMarkers] Analyse de l'extrait '5. Décision Reconnaissance Donbass' de la source 'Kremlin Discours 21/02/2022'...\n",
      "22:01:18 [INFO] [App.UI.Utils]    -> Lecture depuis cache : 4cf2d4853745719f6504a54610237738ad016de4f64176c3e8f5218f8fd2c01b.txt\n",
      "22:01:18 [INFO] [RepairExtractMarkers] Extrait '5. Décision Reconnaissance Donbass' invalide. Demande de réparation...\n",
      "22:01:18 [ERROR] [RepairExtractMarkers] Erreur lors de l'invocation de l'agent de réparation: ChatCompletionAgent.invoke() takes 1 positional argument but 2 were given\n",
      "22:01:18 [INFO] [RepairExtractMarkers] Aucune correction proposée pour l'extrait '5. Décision Reconnaissance Donbass'.\n",
      "22:01:18 [INFO] [RepairExtractMarkers] Analyse de la source 'Hitler Discours Collection (PDF)'...\n",
      "22:01:18 [INFO] [RepairExtractMarkers] Analyse de l'extrait '1. 1923.04.13 - Munich' de la source 'Hitler Discours Collection (PDF)'...\n",
      "22:01:18 [INFO] [App.UI.Utils]    -> Lecture depuis cache : 8c10d6f095f6c568c5c40c8c94c2dbfc6e21dadf888fcd5d767513968d06e5ba.txt\n",
      "22:01:18 [INFO] [RepairExtractMarkers] Extrait '1. 1923.04.13 - Munich' invalide. Demande de réparation...\n",
      "22:01:18 [INFO] [RepairExtractMarkers] Corpus volumineux détecté (Hitler). Utilisation d'une approche dichotomique...\n",
      "22:01:41 [ERROR] [RepairExtractMarkers] Erreur lors de l'invocation de l'agent de réparation: ChatCompletionAgent.invoke() takes 1 positional argument but 2 were given\n",
      "22:01:41 [INFO] [RepairExtractMarkers] Aucune correction proposée pour l'extrait '1. 1923.04.13 - Munich'.\n",
      "22:01:41 [INFO] [RepairExtractMarkers] Analyse de l'extrait '2. 1923.04.24 - Munich' de la source 'Hitler Discours Collection (PDF)'...\n",
      "22:01:41 [INFO] [App.UI.Utils]    -> Lecture depuis cache : 8c10d6f095f6c568c5c40c8c94c2dbfc6e21dadf888fcd5d767513968d06e5ba.txt\n",
      "22:01:41 [INFO] [RepairExtractMarkers] Extrait '2. 1923.04.24 - Munich' invalide. Demande de réparation...\n",
      "22:01:41 [INFO] [RepairExtractMarkers] Corpus volumineux détecté (Hitler). Utilisation d'une approche dichotomique...\n",
      "22:02:06 [ERROR] [RepairExtractMarkers] Erreur lors de l'invocation de l'agent de réparation: ChatCompletionAgent.invoke() takes 1 positional argument but 2 were given\n",
      "22:02:06 [INFO] [RepairExtractMarkers] Aucune correction proposée pour l'extrait '2. 1923.04.24 - Munich'.\n",
      "22:02:06 [INFO] [RepairExtractMarkers] Analyse de l'extrait '3. 1923.04.27 - Munich' de la source 'Hitler Discours Collection (PDF)'...\n",
      "22:02:06 [INFO] [App.UI.Utils]    -> Lecture depuis cache : 8c10d6f095f6c568c5c40c8c94c2dbfc6e21dadf888fcd5d767513968d06e5ba.txt\n",
      "22:02:06 [INFO] [RepairExtractMarkers] Extrait '3. 1923.04.27 - Munich' valide. Aucune correction nécessaire.\n",
      "22:02:06 [INFO] [RepairExtractMarkers] Analyse de l'extrait '4. 1933.03.23 - Duel Otto Wels' de la source 'Hitler Discours Collection (PDF)'...\n",
      "22:02:06 [INFO] [App.UI.Utils]    -> Lecture depuis cache : 8c10d6f095f6c568c5c40c8c94c2dbfc6e21dadf888fcd5d767513968d06e5ba.txt\n",
      "22:02:06 [INFO] [RepairExtractMarkers] Extrait '4. 1933.03.23 - Duel Otto Wels' invalide. Demande de réparation...\n",
      "22:02:06 [INFO] [RepairExtractMarkers] Corpus volumineux détecté (Hitler). Utilisation d'une approche dichotomique...\n",
      "22:02:38 [ERROR] [RepairExtractMarkers] Erreur lors de l'invocation de l'agent de réparation: ChatCompletionAgent.invoke() takes 1 positional argument but 2 were given\n",
      "22:02:38 [INFO] [RepairExtractMarkers] Aucune correction proposée pour l'extrait '4. 1933.03.23 - Duel Otto Wels'.\n",
      "22:02:38 [INFO] [RepairExtractMarkers] Analyse de l'extrait '5. 1933.05.01 - Lustgarten' de la source 'Hitler Discours Collection (PDF)'...\n",
      "22:02:38 [INFO] [App.UI.Utils]    -> Lecture depuis cache : 8c10d6f095f6c568c5c40c8c94c2dbfc6e21dadf888fcd5d767513968d06e5ba.txt\n",
      "22:02:38 [INFO] [RepairExtractMarkers] Extrait '5. 1933.05.01 - Lustgarten' invalide. Demande de réparation...\n",
      "22:02:38 [INFO] [RepairExtractMarkers] Corpus volumineux détecté (Hitler). Utilisation d'une approche dichotomique...\n",
      "22:03:06 [ERROR] [RepairExtractMarkers] Erreur lors de l'invocation de l'agent de réparation: ChatCompletionAgent.invoke() takes 1 positional argument but 2 were given\n",
      "22:03:06 [INFO] [RepairExtractMarkers] Aucune correction proposée pour l'extrait '5. 1933.05.01 - Lustgarten'.\n",
      "22:03:06 [INFO] [RepairExtractMarkers] Analyse de l'extrait '6. 1936.03.09 - Interview Ward Price' de la source 'Hitler Discours Collection (PDF)'...\n",
      "22:03:06 [INFO] [App.UI.Utils]    -> Lecture depuis cache : 8c10d6f095f6c568c5c40c8c94c2dbfc6e21dadf888fcd5d767513968d06e5ba.txt\n",
      "22:03:06 [INFO] [RepairExtractMarkers] Extrait '6. 1936.03.09 - Interview Ward Price' invalide. Demande de réparation...\n",
      "22:03:06 [INFO] [RepairExtractMarkers] Corpus volumineux détecté (Hitler). Utilisation d'une approche dichotomique...\n",
      "22:03:36 [ERROR] [RepairExtractMarkers] Erreur lors de l'invocation de l'agent de réparation: ChatCompletionAgent.invoke() takes 1 positional argument but 2 were given\n",
      "22:03:36 [INFO] [RepairExtractMarkers] Aucune correction proposée pour l'extrait '6. 1936.03.09 - Interview Ward Price'.\n",
      "22:03:36 [INFO] [RepairExtractMarkers] Analyse de l'extrait '7. 1936.03.12 - Karlsruhe' de la source 'Hitler Discours Collection (PDF)'...\n",
      "22:03:36 [INFO] [App.UI.Utils]    -> Lecture depuis cache : 8c10d6f095f6c568c5c40c8c94c2dbfc6e21dadf888fcd5d767513968d06e5ba.txt\n",
      "22:03:36 [INFO] [RepairExtractMarkers] Extrait '7. 1936.03.12 - Karlsruhe' invalide. Demande de réparation...\n",
      "22:03:36 [INFO] [RepairExtractMarkers] Corpus volumineux détecté (Hitler). Utilisation d'une approche dichotomique...\n",
      "22:04:02 [ERROR] [RepairExtractMarkers] Erreur lors de l'invocation de l'agent de réparation: ChatCompletionAgent.invoke() takes 1 positional argument but 2 were given\n",
      "22:04:02 [INFO] [RepairExtractMarkers] Aucune correction proposée pour l'extrait '7. 1936.03.12 - Karlsruhe'.\n",
      "22:04:02 [INFO] [RepairExtractMarkers] Analyse de l'extrait '8. 1936.03.20 - Hambourg' de la source 'Hitler Discours Collection (PDF)'...\n",
      "22:04:02 [INFO] [App.UI.Utils]    -> Lecture depuis cache : 8c10d6f095f6c568c5c40c8c94c2dbfc6e21dadf888fcd5d767513968d06e5ba.txt\n",
      "22:04:02 [INFO] [RepairExtractMarkers] Extrait '8. 1936.03.20 - Hambourg' valide. Aucune correction nécessaire.\n",
      "22:04:02 [INFO] [RepairExtractMarkers] Analyse de l'extrait '9. 1939.01.30 - Reichstag (Prophétie)' de la source 'Hitler Discours Collection (PDF)'...\n",
      "22:04:02 [INFO] [App.UI.Utils]    -> Lecture depuis cache : 8c10d6f095f6c568c5c40c8c94c2dbfc6e21dadf888fcd5d767513968d06e5ba.txt\n",
      "22:04:02 [INFO] [RepairExtractMarkers] Extrait '9. 1939.01.30 - Reichstag (Prophétie)' invalide. Demande de réparation...\n",
      "22:04:02 [INFO] [RepairExtractMarkers] Corpus volumineux détecté (Hitler). Utilisation d'une approche dichotomique...\n",
      "22:04:33 [ERROR] [RepairExtractMarkers] Erreur lors de l'invocation de l'agent de réparation: ChatCompletionAgent.invoke() takes 1 positional argument but 2 were given\n",
      "22:04:33 [INFO] [RepairExtractMarkers] Aucune correction proposée pour l'extrait '9. 1939.01.30 - Reichstag (Prophétie)'.\n",
      "22:04:33 [INFO] [RepairExtractMarkers] Analyse de l'extrait '10. 1942.11.09 - Löwenbräukeller' de la source 'Hitler Discours Collection (PDF)'...\n",
      "22:04:33 [INFO] [App.UI.Utils]    -> Lecture depuis cache : 8c10d6f095f6c568c5c40c8c94c2dbfc6e21dadf888fcd5d767513968d06e5ba.txt\n",
      "22:04:33 [INFO] [RepairExtractMarkers] Extrait '10. 1942.11.09 - Löwenbräukeller' valide. Aucune correction nécessaire.\n"
     ]
    },
    {
     "name": "stdout",
     "output_type": "stream",
     "text": [
      "\n",
      "=== Résumé des réparations ===\n",
      "Total des extraits analysés: 25\n",
      "Extraits valides: 11\n",
      "Extraits réparés: 0\n",
      "Réparations rejetées: 0\n",
      "Extraits inchangés: 14\n",
      "Erreurs: 0\n"
     ]
    }
   ],
   "source": [
    "# Réparer les bornes défectueuses\n",
    "async def run_repair():\n",
    "    updated_definitions, results = await repair_extract_markers(filtered_definitions, llm_service)\n",
    "    return updated_definitions, results\n",
    "\n",
    "# Exécuter la réparation\n",
    "updated_definitions, repair_results = await run_repair()\n",
    "\n",
    "# Afficher un résumé des résultats\n",
    "status_counts = {\"valid\": 0, \"repaired\": 0, \"rejected\": 0, \"unchanged\": 0, \"error\": 0}\n",
    "for result in repair_results:\n",
    "    status = result.get(\"status\", \"error\")\n",
    "    if status in status_counts:\n",
    "        status_counts[status] += 1\n",
    "\n",
    "print(f\"\\n=== Résumé des réparations ===\")\n",
    "print(f\"Total des extraits analysés: {len(repair_results)}\")\n",
    "print(f\"Extraits valides: {status_counts['valid']}\")\n",
    "print(f\"Extraits réparés: {status_counts['repaired']}\")\n",
    "print(f\"Réparations rejetées: {status_counts['rejected']}\")\n",
    "print(f\"Extraits inchangés: {status_counts['unchanged']}\")\n",
    "print(f\"Erreurs: {status_counts['error']}\")"
   ]
  },
  {
   "cell_type": "markdown",
   "metadata": {},
   "source": [
    "## 6. Génération du rapport"
   ]
  },
  {
   "cell_type": "code",
   "execution_count": 8,
   "metadata": {},
   "outputs": [
    {
     "name": "stderr",
     "output_type": "stream",
     "text": [
      "22:04:33 [INFO] [RepairExtractMarkers] Génération du rapport dans 'repair_report.html'...\n",
      "22:04:33 [INFO] [RepairExtractMarkers] Rapport généré dans 'repair_report.html'.\n"
     ]
    },
    {
     "name": "stdout",
     "output_type": "stream",
     "text": [
      "Rapport généré dans 'repair_report.html'.\n"
     ]
    },
    {
     "data": {
      "text/html": [
       "\n",
       "        <iframe\n",
       "            width=\"100%\"\n",
       "            height=\"600\"\n",
       "            src=\"repair_report.html\"\n",
       "            frameborder=\"0\"\n",
       "            allowfullscreen\n",
       "            \n",
       "        ></iframe>\n",
       "        "
      ],
      "text/plain": [
       "<IPython.lib.display.IFrame at 0x1a8ca248ec0>"
      ]
     },
     "execution_count": 8,
     "metadata": {},
     "output_type": "execute_result"
    }
   ],
   "source": [
    "# Générer le rapport\n",
    "output_file = \"repair_report.html\"\n",
    "generate_report(repair_results, output_file)\n",
    "print(f\"Rapport généré dans '{output_file}'.\")\n",
    "\n",
    "# Afficher le rapport dans le notebook\n",
    "from IPython.display import IFrame\n",
    "IFrame(src=output_file, width=\"100%\", height=600)"
   ]
  },
  {
   "cell_type": "markdown",
   "metadata": {},
   "source": [
    "## 7. Sauvegarde des modifications"
   ]
  },
  {
   "cell_type": "code",
   "execution_count": 9,
   "metadata": {},
   "outputs": [
    {
     "name": "stdout",
     "output_type": "stream",
     "text": [
      "Les modifications n'ont pas été sauvegardées (mettez save_changes=True pour sauvegarder).\n"
     ]
    }
   ],
   "source": [
    "# Option pour sauvegarder les modifications\n",
    "save_changes = False  # Mettre à True pour sauvegarder les modifications\n",
    "\n",
    "if save_changes:\n",
    "    print(\"Sauvegarde des modifications...\")\n",
    "    success, error_message = save_extract_definitions_safely(\n",
    "        updated_definitions, CONFIG_FILE, ENCRYPTION_KEY, CONFIG_FILE_JSON\n",
    "    )\n",
    "    if success:\n",
    "        print(\"✅ Modifications sauvegardées avec succès.\")\n",
    "    else:\n",
    "        print(f\"❌ Erreur lors de la sauvegarde des modifications: {error_message}\")\n",
    "else:\n",
    "    print(\"Les modifications n'ont pas été sauvegardées (mettez save_changes=True pour sauvegarder).\")"
   ]
  },
  {
   "cell_type": "markdown",
   "metadata": {},
   "source": [
    "## 8. Analyse des extraits après réparation"
   ]
  },
  {
   "cell_type": "code",
   "execution_count": 10,
   "metadata": {},
   "outputs": [],
   "source": [
    "# Analyser les extraits après réparation\n",
    "if save_changes:\n",
    "    print(\"\\nAnalyse des extraits après réparation...\")\n",
    "    \n",
    "    # Recharger les définitions d'extraits\n",
    "    updated_extract_definitions, error_message = load_extract_definitions_safely(CONFIG_FILE, ENCRYPTION_KEY, CONFIG_FILE_JSON)\n",
    "    if error_message:\n",
    "        print(f\"Erreur lors du chargement des définitions d'extraits: {error_message}\")\n",
    "    else:\n",
    "        # Analyser les extraits mis à jour\n",
    "        updated_analysis_results = analyze_extracts(updated_extract_definitions)\n",
    "        \n",
    "        # Afficher un résumé des résultats\n",
    "        print(f\"\\n=== Résumé de l'analyse après réparation ===\")\n",
    "        print(f\"Extraits valides: {len(updated_analysis_results['valid'])}\")\n",
    "        print(f\"Extraits invalides: {len(updated_analysis_results['invalid'])}\")\n",
    "        \n",
    "        # Comparer avec l'analyse initiale\n",
    "        print(f\"\\n=== Comparaison avant/après réparation ===\")\n",
    "        print(f\"Extraits valides avant: {len(analysis_results['valid'])} -> après: {len(updated_analysis_results['valid'])}\")\n",
    "        print(f\"Extraits invalides avant: {len(analysis_results['invalid'])} -> après: {len(updated_analysis_results['invalid'])}\")"
   ]
  }
 ],
 "metadata": {
  "kernelspec": {
   "display_name": "Python (arg-analysis-venv)",
   "language": "python",
   "name": "arg-analysis-venv"
  },
  "language_info": {
   "codemirror_mode": {
    "name": "ipython",
    "version": 3
   },
   "file_extension": ".py",
   "mimetype": "text/x-python",
   "name": "python",
   "nbconvert_exporter": "python",
   "pygments_lexer": "ipython3",
   "version": "3.13.2"
  }
 },
 "nbformat": 4,
 "nbformat_minor": 4
}
