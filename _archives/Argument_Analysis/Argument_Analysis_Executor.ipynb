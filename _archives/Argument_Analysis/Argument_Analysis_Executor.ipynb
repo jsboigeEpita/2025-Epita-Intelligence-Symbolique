{
 "cells": [
  {
   "cell_type": "markdown",
   "id": "10996590",
   "metadata": {},
   "source": [
    "# 🚀 Analyse Rhétorique Collaborative par Agents IA - Exécuteur Principal\n",
    "\n",
    "**Objectif:** Ce notebook orchestre et exécute une analyse rhétorique multi-agents sur un texte donné. Il sert de point d'entrée principal pour lancer le processus.\n",
    "\n",
    "**Structure Modulaire:**\n",
    "1.  `Argument_Analysis_UI_configuration.ipynb` : Gère l'interface utilisateur pour sélectionner/préparer le texte à analyser (incluant sources prédéfinies, URL, fichier, texte direct, et extraction) et charge/sauvegarde la configuration des sources.\n",
    "2.  `Argument_Analysis_Agentic-0-init.ipynb`: Configuration initiale (dépendances, LLM, JVM), définition de l'état partagé (`RhetoricalAnalysisState`) et du gestionnaire d'état (`StateManagerPlugin`).\n",
    "3.  `Argument_Analysis_Agentic-1-informal_agent.ipynb`: Définition de l'`InformalAnalysisAgent`.\n",
    "4.  `Argument_Analysis_Agentic-2-pl_agent.ipynb`: Définition du `PropositionalLogicAgent`.\n",
    "5.  `Argument_Analysis_Agentic-3-orchestration.ipynb`: Définition des stratégies d'orchestration et de la fonction principale `run_analysis_conversation`.\n",
    "\n",
    "**Prérequis:**\n",
    "* Un fichier `.env` à la racine contenant les clés API, configurations LLM, et la clé de chiffrement `TEXT_CONFIG_KEY`.\n",
    "* Un environnement Java Development Kit (JDK >= 11) correctement installé et configuré (`JAVA_HOME`).\n",
    "* Les dépendances Python installées (`ipywidgets`, `requests`, `jupyter-ui-poll`, `python-dotenv`, `semantic-kernel`, `pandas`, `jpype1`, `cryptography`).\n",
    "* Les JARs Tweety placés dans le dossier `libs/`.\n",
    "* Le fichier `extract_sources.json.gz.enc` (s'il existe déjà) contenant les définitions des sources."
   ]
  },
  {
   "cell_type": "markdown",
   "id": "6763bbbf",
   "metadata": {},
   "source": [
    "## 1. Chargement de l'Environnement\n",
    "\n",
    "Chargement des variables depuis le fichier `.env` (clés API, clé de chiffrement, etc.)."
   ]
  },
  {
   "cell_type": "code",
   "execution_count": 6,
   "id": "c8c82597",
   "metadata": {},
   "outputs": [
    {
     "name": "stdout",
     "output_type": "stream",
     "text": [
      ".env chargé: True\n"
     ]
    }
   ],
   "source": [
    "# Charger les variables d'environnement\n",
    "from dotenv import load_dotenv, find_dotenv\n",
    "loaded_env = load_dotenv(find_dotenv(), override=True)\n",
    "print(f\".env chargé: {loaded_env}\") # Affiche True si le .env a été trouvé et chargé"
   ]
  },
  {
   "cell_type": "markdown",
   "id": "41046be8",
   "metadata": {},
   "source": [
    "## 2. Chargement de l'Interface Utilisateur\n",
    "\n",
    "Exécution du notebook `UI_Configuration.ipynb` pour définir la fonction `configure_analysis_task()`. C'est ce notebook qui contient désormais toute la logique de l'interface graphique, du cache fichier et de la gestion de la configuration chiffrée."
   ]
  },
  {
   "cell_type": "code",
   "execution_count": 7,
   "id": "8b3b3380",
   "metadata": {},
   "outputs": [
    {
     "name": "stdout",
     "output_type": "stream",
     "text": [
      "Exécution de Argument_Analysis_UI_configuration.ipynb...\n",
      "Imports pour UI_Configuration chargés (incluant crypto KDF et base64).\n",
      "Vérification de la phrase secrète 'TEXT_CONFIG_PASSPHRASE' dans .env...\n",
      "✅ Phrase secrète trouvée. Dérivation de la clé...\n",
      "✅ Clé de chiffrement dérivée et encodée.\n",
      "Cache répertoire assuré : C:\\dev\\CoursIA\\MyIA.AI.Notebooks\\SymbolicAI\\Argument_Analysis\\text_cache\n",
      "Configuration UI chargée. 4 sources initiales définies.\n",
      "Fonctions utilitaires UI_Configuration définies.\n",
      "\n",
      "--- Initialisation du Cache des Textes Complets ---\n",
      "Vérification du cache pour 4 source(s)...\n",
      "\n",
      "--- Fin Initialisation du Cache ---\n",
      "✅ Cache initialisé/vérifié.\n",
      "Fonction configure_analysis_task() définie dans UI_Configuration.ipynb.\n",
      "Exécution de Argument_Analysis_UI_configuration.ipynb terminée.\n",
      "Fonction configure_analysis_task trouvée.\n"
     ]
    }
   ],
   "source": [
    "# Exécuter le notebook UI pour définir la fonction configure_analysis_task\n",
    "# Assurez-vous que le fichier UI_Configuration.ipynb est dans le même répertoire\n",
    "# et qu'il contient bien la définition de la fonction configure_analysis_task()\n",
    "print(\"Exécution de Argument_Analysis_UI_configuration.ipynb...\")\n",
    "%run ./Argument_Analysis_UI_configuration.ipynb\n",
    "print(\"Exécution de Argument_Analysis_UI_configuration.ipynb terminée.\")\n",
    "\n",
    "# Vérification que la fonction est bien définie après l'exécution\n",
    "if 'configure_analysis_task' not in locals():\n",
    "    print(\"ERREUR CRITIQUE : La fonction configure_analysis_task n'a pas été définie par UI_Configuration.ipynb !\")\n",
    "    # Vous pourriez vouloir arrêter l'exécution ici\n",
    "    # raise NameError(\"configure_analysis_task non définie\")\n",
    "else:\n",
    "    print(\"Fonction configure_analysis_task trouvée.\")"
   ]
  },
  {
   "cell_type": "markdown",
   "id": "4438236c",
   "metadata": {},
   "source": [
    "## 3. Configuration de la Tâche et Récupération du Texte\n",
    "\n",
    "Appel de la fonction `configure_analysis_task()` définie dans le notebook UI. Cela affichera l'interface utilisateur. Sélectionnez votre source, préparez le texte, puis cliquez sur **\"Lancer l'Analyse\"**. Le texte préparé sera retourné et stocké pour l'étape suivante. La cellule attendra la fin de votre interaction avec l'UI."
   ]
  },
  {
   "cell_type": "code",
   "execution_count": null,
   "id": "2eed71c1",
   "metadata": {},
   "outputs": [
    {
     "name": "stdout",
     "output_type": "stream",
     "text": [
      "Lancement de l'interface de configuration...\n",
      "Fichier config 'extract_sources.json.gz.enc' non trouvé. Utilisation définitions en mémoire.\n",
      "Initialisation interface...\n"
     ]
    },
    {
     "data": {
      "application/vnd.jupyter.widget-view+json": {
       "model_id": "d3b6fd83fca2413f8e1e38a81cd4c069",
       "version_major": 2,
       "version_minor": 0
      },
      "text/plain": [
       "VBox(children=(HTML(value='<h2>Configuration Tâche Analyse</h2>'), HTML(value='<h3>1. Source Texte</h3>'), Tab…"
      ]
     },
     "metadata": {},
     "output_type": "display_data"
    },
    {
     "name": "stdout",
     "output_type": "stream",
     "text": [
      "Fichier config 'extract_sources.json.gz.enc' non trouvé. Utilisation définitions en mémoire.\n",
      "\n",
      "⏳ En attente interaction...\n"
     ]
    }
   ],
   "source": [
    "# Appeler la fonction pour afficher l'UI et obtenir le texte\n",
    "# Cette cellule bloquera jusqu'à ce que l'utilisateur valide dans l'UI\n",
    "\n",
    "texte_pour_analyse = None # Initialiser\n",
    "if 'configure_analysis_task' in locals():\n",
    "    try:\n",
    "        print(\"Lancement de l'interface de configuration...\")\n",
    "        texte_pour_analyse = configure_analysis_task() # Appel bloquant\n",
    "    except Exception as e_ui:\n",
    "        print(f\"❌ Une erreur est survenue lors de l'exécution de l'interface utilisateur : {e_ui}\")\n",
    "        import traceback\n",
    "        traceback.print_exc()\n",
    "else:\n",
    "    print(\"❌ ERREUR: Impossible d'appeler configure_analysis_task() car elle n'est pas définie.\")\n",
    "\n",
    "\n",
    "# Vérifier si on a bien reçu du texte après l'interaction UI\n",
    "if not texte_pour_analyse:\n",
    "    print(\"\\n❌ Aucune tâche configurée ou texte préparé vide. L'analyse ne peut pas continuer.\")\n",
    "    # Optionnel : lever une exception pour arrêter proprement\n",
    "    # raise ValueError(\"Configuration de la tâche échouée ou texte vide.\")\n",
    "else:\n",
    "    print(f\"\\n✅ Texte prêt pour l'analyse (longueur: {len(texte_pour_analyse)}). Passage au chargement des définitions d'agents.\")"
   ]
  },
  {
   "cell_type": "markdown",
   "id": "183031e3",
   "metadata": {},
   "source": [
    "## 4. Chargement des Définitions des Agents et de l'Orchestration\n",
    "\n",
    "Maintenant que le texte est prêt (si l'étape précédente a réussi), nous chargeons les définitions des agents, des plugins, des stratégies et de la fonction d'orchestration `run_analysis_conversation` en exécutant les notebooks enfants dédiés.\n",
    "\n",
    "**Rappel:** Le notebook `Argument_Analysis_Agentic-0-init.ipynb` **ne doit plus définir** la variable `raw_text_input` et le notebook `Argument_Analysis_Agentic-3-orchestration.ipynb` **doit définir** `run_analysis_conversation(texte_a_analyser)` acceptant un argument."
   ]
  },
  {
   "cell_type": "code",
   "execution_count": null,
   "id": "7674a98e",
   "metadata": {},
   "outputs": [
    {
     "name": "stdout",
     "output_type": "stream",
     "text": [
      "\n",
      "Skipping agent definition loading because no text was prepared.\n"
     ]
    }
   ],
   "source": [
    "# Exécuter les notebooks enfants pour charger les définitions\n",
    "# Seulement si un texte a été préparé avec succès\n",
    "if 'texte_pour_analyse' in locals() and texte_pour_analyse:\n",
    "    print(\"\\nChargement des définitions des agents et de l'orchestration...\")\n",
    "    try:\n",
    "        %run ./Argument_Analysis_Agentic-0-init.ipynb\n",
    "        %run ./Argument_Analysis_Agentic-1-informal_agent.ipynb\n",
    "        %run ./Argument_Analysis_Agentic-2-pl_agent.ipynb\n",
    "        %run ./Argument_Analysis_Agentic-3-orchestration.ipynb  # Définit run_analysis_conversation(texte_a_analyser)\n",
    "        print(\"✅ Définitions chargées.\")\n",
    "        # Vérifier que la fonction d'orchestration est chargée\n",
    "        if 'run_analysis_conversation' not in locals():\n",
    "             print(\"❌ ERREUR CRITIQUE: La fonction run_analysis_conversation n'a pas été définie après l'exécution des notebooks agents!\")\n",
    "             # raise NameError(\"run_analysis_conversation non définie\")\n",
    "    except Exception as e_run:\n",
    "        print(f\"\\n❌ Une erreur est survenue lors de l'exécution des notebooks enfants : {e_run}\")\n",
    "        import traceback\n",
    "        traceback.print_exc()\n",
    "        # Empêcher la suite si le chargement échoue\n",
    "        texte_pour_analyse = None\n",
    "else:\n",
    "    print(\"\\nSkipping agent definition loading because no text was prepared.\")"
   ]
  },
  {
   "cell_type": "markdown",
   "id": "6b60ae64",
   "metadata": {},
   "source": [
    "## 5. Exécution de l'Analyse Collaborative\n",
    "\n",
    "Si toutes les étapes précédentes se sont bien déroulées et que nous avons un texte à analyser, cette cellule lance l'analyse collaborative.\n",
    "\n",
    "*Note :* `nest_asyncio` est appliqué pour la compatibilité avec l'environnement asynchrone de Jupyter."
   ]
  },
  {
   "cell_type": "code",
   "execution_count": null,
   "id": "689bf30e",
   "metadata": {},
   "outputs": [
    {
     "name": "stdout",
     "output_type": "stream",
     "text": [
      "\n",
      " Analyse non lancée : aucun texte n'a été préparé ou une erreur est survenue avant.\n"
     ]
    }
   ],
   "source": [
    "import nest_asyncio\n",
    "import asyncio\n",
    "\n",
    "# Lancer seulement si on a obtenu un texte valide ET que les définitions sont chargées\n",
    "if 'texte_pour_analyse' in locals() and texte_pour_analyse and 'run_analysis_conversation' in locals():\n",
    "    print(\"\\n🚀 Lancement de l'exécution asynchrone de l'analyse...\")\n",
    "    nest_asyncio.apply()\n",
    "    try:\n",
    "        # Passer le texte préparé\n",
    "        await run_analysis_conversation(texte_pour_analyse)\n",
    "        print(\"\\n🏁 Analyse terminée.\")\n",
    "    except Exception as e_analysis:\n",
    "        print(f\"\\n❌ Une erreur est survenue pendant l'exécution de l'analyse : {e_analysis}\")\n",
    "        import traceback\n",
    "        traceback.print_exc()\n",
    "\n",
    "elif 'texte_pour_analyse' not in locals() or not texte_pour_analyse:\n",
    "    print(\"\\n Analyse non lancée : aucun texte n'a été préparé ou une erreur est survenue avant.\")\n",
    "else: # Implique que run_analysis_conversation n'a pas été chargée\n",
    "     print(\"\\n Analyse non lancée : la fonction d'orchestration n'a pas pu être chargée.\")"
   ]
  },
  {
   "cell_type": "markdown",
   "id": "7abbf986",
   "metadata": {},
   "source": [
    "## 6. Résultats et Conclusion\n",
    "\n",
    "Vérifiez les logs et l'état final JSON affichés par l'exécution précédente pour voir le résultat de l'analyse collaborative."
   ]
  },
  {
   "cell_type": "markdown",
   "id": "a7a37b89",
   "metadata": {},
   "source": [
    "## 7. 🏁 Pistes d'Amélioration Futures\n",
    "\n",
    "*(Repris de `3-orchestration-...ipynb`)*\n",
    "\n",
    "**Prochaines étapes possibles :**\n",
    "* **Activer & Finaliser PL:** Implémenter réellement les appels JPype/Tweety dans `PropositionalLogicPlugin._internal_execute_query` et tester de bout en bout l'exécution des requêtes logiques (parsing, query, interprétation).\n",
    "* **Affiner Analyse Sophismes:** Améliorer les instructions de `InformalAnalysisAgent` pour une exploration plus fine de la taxonomie (gestion de la profondeur, choix des branches) ou l'attribution de sophismes spécifiques basée sur les détails récupérés (`get_fallacy_details`).\n",
    "* **Externaliser Prompts & Config:** Déplacer les prompts et configurations (ex: noms agents, constantes) hors du code Python vers des fichiers dédiés (YAML, JSON, .env) pour une meilleure maintenabilité. Utiliser `kernel.import_plugin_from_directory`.\n",
    "* **Gestion Erreurs Agents:** Renforcer la capacité des agents à gérer les erreurs retournées par les outils (`FUNC_ERROR:`) et à adapter leur plan (ex: demander une clarification, réessayer, passer à autre chose).\n",
    "* **Nouveaux Agents/Capacités:** Implémenter des agents pour d'autres logiques (FOL, Modale), d'autres tâches (résumé, extraction d'entités) ou d'autres outils (recherche web, base de données).\n",
    "* **État RDF/KG:** Explorer le passage à une structure d'état plus riche et sémantiquement structurée en utilisant RDF/KG (avec `rdflib` ou une base de graphe) pour représenter les arguments, relations, et métadonnées de manière plus formelle.\n",
    "* **Interface Utilisateur:** Créer une interface (ex: avec Gradio, Streamlit) pour faciliter l'interaction et la visualisation de l'analyse."
   ]
  }
 ],
 "metadata": {
  "kernelspec": {
   "display_name": "Python 3",
   "language": "python",
   "name": "python3"
  },
  "language_info": {
   "codemirror_mode": {
    "name": "ipython",
    "version": 3
   },
   "file_extension": ".py",
   "mimetype": "text/x-python",
   "name": "python",
   "nbconvert_exporter": "python",
   "pygments_lexer": "ipython3",
   "version": "3.13.2"
  }
 },
 "nbformat": 4,
 "nbformat_minor": 5
}
