{
 "cells": [
  {
   "cell_type": "markdown",
   "metadata": {},
   "source": [
    "# Tutoriel interactif sur l'utilisation des agents logiques\n",
    "\n",
    "Ce notebook présente un tutoriel interactif sur l'utilisation des agents logiques pour l'analyse argumentative. Vous apprendrez à:\n",
    "\n",
    "1. Initialiser différents types d'agents logiques\n",
    "2. Convertir des textes en ensembles de croyances formalisés\n",
    "3. Générer et exécuter des requêtes logiques\n",
    "4. Interpréter les résultats des analyses\n",
    "5. Combiner différents types de logiques pour une analyse plus riche\n",
    "\n",
    "## Prérequis\n",
    "\n",
    "Pour exécuter ce notebook, vous devez avoir installé:\n",
    "- Python 3.8 ou supérieur\n",
    "- Semantic Kernel\n",
    "- JPype\n",
    "- TweetyProject\n",
    "- Le package `argumentation_analysis`\n",
    "\n",
    "Assurez-vous également d'avoir configuré vos clés API pour les services LLM (comme OpenAI)."
   ]
  },
  {
   "cell_type": "markdown",
   "metadata": {},
   "source": [
    "## 1. Configuration de l'environnement\n",
    "\n",
    "Commençons par importer les bibliothèques nécessaires et configurer l'environnement."
   ]
  },
  {
   "cell_type": "code",
   "execution_count": null,
   "metadata": {},
   "outputs": [],
   "source": [
    "import logging\n",
    "import sys\n",
    "from typing import Dict, List, Tuple, Optional, Any\n",
    "\n",
    "from semantic_kernel import Kernel\n",
    "from semantic_kernel.connectors.ai.open_ai import OpenAIChatCompletion\n",
    "\n",
    "from argumentation_analysis.agents.core.logic.logic_factory import LogicAgentFactory\n",
    "from argumentation_analysis.agents.core.logic.propositional_logic_agent import PropositionalLogicAgent\n",
    "from argumentation_analysis.agents.core.logic.first_order_logic_agent import FirstOrderLogicAgent\n",
    "from argumentation_analysis.agents.core.logic.modal_logic_agent import ModalLogicAgent\n",
    "from argumentation_analysis.agents.core.logic.belief_set import BeliefSet\n",
    "\n",
    "# Configuration du logging\n",
    "logging.basicConfig(\n",
    "    level=logging.INFO,\n",
    "    format='%(asctime)s - %(name)s - %(levelname)s - %(message)s',\n",
    "    handlers=[logging.StreamHandler(sys.stdout)]\n",
    ")\n",
    "logger = logging.getLogger(\"LogicAgentsTutorial\")"
   ]
  },
  {
   "cell_type": "markdown",
   "metadata": {},
   "source": [
    "## 2. Initialisation du Kernel et des agents logiques\n",
    "\n",
    "Nous allons maintenant initialiser le Kernel Semantic Kernel et créer les différents agents logiques."
   ]
  },
  {
   "cell_type": "code",
   "execution_count": null,
   "metadata": {},
   "outputs": [],
   "source": [
    "def initialize_kernel() -> Tuple[Kernel, any]:\n",
    "    \"\"\"\n",
    "    Initialise le kernel Semantic Kernel et le service LLM.\n",
    "    \n",
    "    Returns:\n",
    "        Tuple contenant le kernel et le service LLM\n",
    "    \"\"\"\n",
    "    print(\"Initialisation du kernel et du service LLM...\")\n",
    "    \n",
    "    # Créer un kernel Semantic Kernel\n",
    "    kernel = Kernel()\n",
    "    \n",
    "    # Configurer le service LLM (OpenAI dans cet exemple)\n",
    "    # Remplacez par vos propres clés API\n",
    "    api_key = \"votre_clé_api_openai\"  # Remplacez par votre clé API\n",
    "    org_id = \"votre_org_id_openai\"    # Remplacez par votre ID d'organisation\n",
    "    \n",
    "    # Ajouter le service LLM au kernel\n",
    "    llm_service = kernel.add_service(\n",
    "        OpenAIChatCompletion(\n",
    "            service_id=\"gpt-4\",\n",
    "            ai_model_id=\"gpt-4\",\n",
    "            api_key=api_key,\n",
    "            org_id=org_id\n",
    "        )\n",
    "    )\n",
    "    \n",
    "    print(\"Kernel et service LLM initialisés avec succès\")\n",
    "    return kernel, llm_service\n",
    "\n",
    "# Initialiser le kernel et le service LLM\n",
    "kernel, llm_service = initialize_kernel()"
   ]
  },
  {
   "cell_type": "code",
   "execution_count": null,
   "metadata": {},
   "outputs": [],
   "source": [
    "def create_logic_agents(kernel: Kernel, llm_service: any) -> Dict[str, Any]:\n",
    "    \"\"\"\n",
    "    Crée les différents agents logiques.\n",
    "    \n",
    "    Args:\n",
    "        kernel: Le kernel Semantic Kernel\n",
    "        llm_service: Le service LLM\n",
    "        \n",
    "    Returns:\n",
    "        Dictionnaire contenant les agents logiques\n",
    "    \"\"\"\n",
    "    print(\"Création des agents logiques...\")\n",
    "    \n",
    "    agents = {}\n",
    "    \n",
    "    # Créer les agents pour chaque type de logique\n",
    "    for logic_type in [\"propositional\", \"first_order\", \"modal\"]:\n",
    "        print(f\"Création de l'agent de logique {logic_type}...\")\n",
    "        agent = LogicAgentFactory.create_agent(logic_type, kernel, llm_service)\n",
    "        \n",
    "        if agent is None:\n",
    "            print(f\"Échec de la création de l'agent de logique {logic_type}\")\n",
    "            continue\n",
    "        \n",
    "        agents[logic_type] = agent\n",
    "        print(f\"Agent de logique {logic_type} créé avec succès\")\n",
    "    \n",
    "    return agents\n",
    "\n",
    "# Créer les agents logiques\n",
    "agents = create_logic_agents(kernel, llm_service)"
   ]
  }
 ],
 "metadata": {
  "kernelspec": {
   "display_name": "Python 3",
   "language": "python",
   "name": "python3"
  },
  "language_info": {
   "codemirror_mode": {
    "name": "ipython",
    "version": 3
   },
   "file_extension": ".py",
   "mimetype": "text/x-python",
   "name": "python",
   "nbconvert_exporter": "python",
   "pygments_lexer": "ipython3",
   "version": "3.8.10"
  }
 },
 "nbformat": 4,
 "nbformat_minor": 4
}