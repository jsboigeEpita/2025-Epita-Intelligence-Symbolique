{
 "cells": [
  {
   "cell_type": "markdown",
   "id": "e229d8f1",
   "metadata": {},
   "source": [
    "## Load multiple models"
   ]
  },
  {
   "cell_type": "code",
   "execution_count": 1,
   "id": "05469d32",
   "metadata": {},
   "outputs": [
    {
     "name": "stdout",
     "output_type": "stream",
     "text": [
      "Loading model Llama3_8B_Q6 from models/Llama3_8B_Q6/model.gguf.\n"
     ]
    },
    {
     "name": "stderr",
     "output_type": "stream",
     "text": [
      "llama_context: n_ctx_per_seq (512) < n_ctx_train (10240) -- the full capacity of the model will not be utilized\n"
     ]
    },
    {
     "name": "stdout",
     "output_type": "stream",
     "text": [
      "Loading model Qwen3_8B_Q8 from models/Qwen3_8B_Q8/model.gguf.\n"
     ]
    },
    {
     "name": "stderr",
     "output_type": "stream",
     "text": [
      "llama_context: n_ctx_per_seq (512) < n_ctx_train (40960) -- the full capacity of the model will not be utilized\n"
     ]
    }
   ],
   "source": [
    "from local_llm.local_llm import LocalLlm\n",
    "from local_llm.constants import ModelEnum\n",
    "\n",
    "instance = LocalLlm([ModelEnum.Llama3_8B_Q6, ModelEnum.Qwen3_8B_Q8])"
   ]
  },
  {
   "cell_type": "markdown",
   "id": "0f59810b",
   "metadata": {},
   "source": [
    "## Ask them to analyze statements in order to find argumentative fallacies"
   ]
  },
  {
   "cell_type": "code",
   "execution_count": 2,
   "id": "19b93fbc",
   "metadata": {},
   "outputs": [
    {
     "name": "stdout",
     "output_type": "stream",
     "text": [
      "Prompting...\n",
      "\n",
      "\n",
      "1. The main arguments are:\n",
      "- Personal anecdote: The author's neighbor had adverse effects after vaccination.\n",
      "- Alleged motivation: Pharmaceutical companies only care about profits.\n",
      "\n",
      "2. These arguments are invalid. \n",
      "- The personal anecdote is a classic case of anecdotal evidence fallacy. The author generalizes from one individual's experience to a conclusion about the entire class of vaccines, which is unjustified. Many people receive vaccines without adverse effects.\n",
      "- The alleged motivation is an ad hominem fallacy. Even if pharmaceutical companies are profit-driven, this does not necessarily make their vaccines unsafe. Safety and efficacy are separate issues. \n",
      "\n",
      "3. Therefore, the conclusion that we should not trust vaccines is unwarranted by the provided arguments. We need scientifically sound evidence and not personal accounts or unfounded assumptions.\n",
      "\n",
      "\n"
     ]
    }
   ],
   "source": [
    "question = \"Les vaccins sont dangereux car mon voisin a eu des effets secondaires après sa vaccination. De plus, les laboratoires pharmaceutiques ne cherchent qu'à faire du profit. Par conséquent, nous ne devrions pas faire confiance aux vaccins.\"\n",
    "#question = \"Vaccines are dangerous because my neighbor experienced side effects after his vaccination. Furthermore, pharmaceutical companies are only interested in making a profit. Therefore, we should not trust vaccines.\"\n",
    "#question = \"Si l'IA devient plus intelligente que les humains, alors soit elle nous aidera, soit elle nous remplacera. Or, une IA superintelligente n'aura pas besoin de nous aider. Donc elle nous remplacera.\"\n",
    "#question = \"Votre argument sur le climat est invalide car vous n'êtes pas climatologue.\"\n",
    "#question = \"Si nous n'agissons pas maintenant contre le changement climatique, nos enfants vivront dans un monde invivable. Nous devons donc interdire immédiatement toutes les voitures.\"\n",
    "#question = \"Tous les cygnes que j'ai vus sont blancs, donc tous les cygnes sont blancs.\"\n",
    "#question = \"Terrorism is the best political weapon for nothing drives people harder than a fear of sudden death.\"\n",
    "\n",
    "print(instance(ModelEnum.Llama3_8B_Q6, question, max_tokens=500))"
   ]
  }
 ],
 "metadata": {
  "kernelspec": {
   "display_name": "iasy",
   "language": "python",
   "name": "python3"
  },
  "language_info": {
   "codemirror_mode": {
    "name": "ipython",
    "version": 3
   },
   "file_extension": ".py",
   "mimetype": "text/x-python",
   "name": "python",
   "nbconvert_exporter": "python",
   "pygments_lexer": "ipython3",
   "version": "3.12.10"
  }
 },
 "nbformat": 4,
 "nbformat_minor": 5
}
