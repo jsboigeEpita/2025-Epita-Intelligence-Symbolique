{
 "cells": [
  {
   "cell_type": "markdown",
   "metadata": {},
   "source": [
    "# Éditeur de Marqueurs d'Extraits\n",
    "\n",
    "\n",
    "\n",
    "Cet outil permet d'ajuster les bornes des extraits dans notre application d'analyse d'argumentation.\n",
    "\n",
    "\n",
    "\n",
    "## Fonctionnalités\n",
    "\n",
    "- Chargement des définitions d'extraits depuis `extract_sources.json`\n",
    "\n",
    "- Visualisation des textes sources et des extraits actuels\n",
    "\n",
    "- Vérification des marqueurs de début et de fin\n",
    "\n",
    "- Ajustement interactif des bornes des extraits\n",
    "\n",
    "- Sauvegarde des définitions corrigées\n",
    "\n",
    "- Recherche de texte dans le document source\n",
    "\n",
    "- Navigation dans les textes longs\n",
    "\n",
    "- Prévisualisation en temps réel des modifications\n",
    "\n",
    "- Export/import des définitions modifiées"
   ]
  },
  {
   "cell_type": "code",
   "execution_count": null,
   "metadata": {},
   "outputs": [],
   "source": [
    "# Importer et exécuter l'éditeur de marqueurs\n",
    "\n",
    "try:\n",
    "    from extract_marker_editor import main\n",
    "    print(\"✅ Module extract_marker_editor importé avec succès.\")\n",
    "except ImportError as e:\n",
    "    print(f\"❌ Erreur lors de l'importation du module extract_marker_editor: {e}\")\n",
    "    print(\"Vérifiez que le fichier extract_marker_editor.py est présent dans le répertoire courant.\")\n",
    "    raise"
   ]
  },
  {
   "cell_type": "code",
   "execution_count": null,
   "metadata": {},
   "outputs": [],
   "source": [
    "# Lancer l'interface utilisateur\n",
    "\n",
    "try:\n",
    "    main()\n",
    "    print(\"\\n✅ Interface lancée avec succès.\")\n",
    "except Exception as e:\n",
    "    print(f\"❌ Erreur lors du lancement de l'interface: {e}\")\n",
    "    import traceback\n",
    "    traceback.print_exc()"
   ]
  },
  {
   "cell_type": "markdown",
   "metadata": {},
   "source": [
    "## Guide d'utilisation\n",
    "\n",
    "\n",
    "\n",
    "1. **Sélection de la source et de l'extrait**:\n",
    "\n",
    "   - Choisissez une source dans le menu déroulant\n",
    "\n",
    "   - Sélectionnez un extrait spécifique\n",
    "\n",
    "\n",
    "\n",
    "2. **Édition des marqueurs**:\n",
    "\n",
    "   - Modifiez le marqueur de début et/ou de fin\n",
    "\n",
    "   - Ajoutez un template pour le marqueur de début si nécessaire\n",
    "\n",
    "\n",
    "\n",
    "3. **Vérification et suggestions**:\n",
    "\n",
    "   - Cliquez sur \"Vérifier\" pour tester les marqueurs actuels\n",
    "\n",
    "   - Utilisez \"Suggérer corrections\" pour obtenir des propositions de marqueurs similaires\n",
    "\n",
    "\n",
    "\n",
    "4. **Navigation et recherche**:\n",
    "\n",
    "   - Utilisez le curseur de position pour naviguer dans les textes longs\n",
    "\n",
    "   - Recherchez du texte spécifique dans le document source\n",
    "\n",
    "\n",
    "\n",
    "5. **Prévisualisation**:\n",
    "\n",
    "   - Activez la prévisualisation en temps réel pour voir immédiatement l'effet des modifications\n",
    "\n",
    "\n",
    "\n",
    "6. **Sauvegarde et export**:\n",
    "\n",
    "   - Une fois satisfait des modifications, cliquez sur \"Sauvegarder\"\n",
    "\n",
    "   - Utilisez les fonctions d'export/import pour partager ou sauvegarder les définitions"
   ]
  }
 ],
 "metadata": {
  "kernelspec": {
   "display_name": "Python 3",
   "language": "python",
   "name": "python3"
  },
  "language_info": {
   "codemirror_mode": {
    "name": "ipython",
    "version": 3
   },
   "file_extension": ".py",
   "mimetype": "text/x-python",
   "name": "python",
   "nbconvert_exporter": "python",
   "pygments_lexer": "ipython3",
   "version": "3.8.10"
  }
 },
 "nbformat": 4,
 "nbformat_minor": 4
}
