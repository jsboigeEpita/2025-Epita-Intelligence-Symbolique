{
 "cells": [
  {
   "cell_type": "markdown",
   "id": "main-md-intro",
   "metadata": {},
   "source": [
    "# 🚀 Analyse Rhétorique Collaborative par Agents IA - Orchestrateur Principal (v_py)\n",
    "\n",
    "**Objectif:** Ce notebook orchestre et exécute une analyse rhétorique multi-agents sur un texte donné, en utilisant une structure de projet Python modulaire.\n",
    "\n",
    "**Structure Modulaire Utilisée:**\n",
    "* `config/`: Fichiers de configuration (`.env`).\n",
    "* `core/`: Composants partagés (État, StateManager, Stratégies, Setup JVM & LLM).\n",
    "* `utils/`: Fonctions utilitaires.\n",
    "* `ui/`: Logique de l'interface utilisateur (`text_input_ui.py`) et lanceur (`run_ui_configuration.ipynb` - optionnel).\n",
    "* `agents/`: Définitions des agents spécialisés (PM, Informal, PL).\n",
    "* `orchestration/`: Logique d'exécution de la conversation (`analysis_runner.py`).\n",
    "\n",
    "**Flux d'Exécution:**\n",
    "1.  Chargement de l'environnement (`.env`).\n",
    "2.  Configuration du Logging.\n",
    "3.  Initialisation de la JVM (via `core.jvm_setup`).\n",
    "4.  Création du service LLM (via `core.llm_service`).\n",
    "5.  Affichage de l'UI de configuration (via `ui.text_input_ui`) pour obtenir le texte.\n",
    "6.  Exécution de l'analyse collaborative (via `orchestration.analysis_runner`) si un texte est fourni.\n",
    "7.  Affichage des résultats (logs, état final).\n",
    "\n",
    "**Prérequis:**\n",
    "* Un fichier `.env` à la racine contenant les clés API, configurations LLM, et la phrase secrète `TEXT_CONFIG_PASSPHRASE`.\n",
    "* Un environnement Java Development Kit (JDK >= 11) correctement installé et configuré (`JAVA_HOME`).\n",
    "* Les dépendances Python installées (voir `requirements.txt` ou `pyproject.toml` du projet).\n",
    "* Les JARs Tweety placés dans le dossier `libs/`.\n",
    "* Le fichier `extract_sources.json.gz.enc` (s'il existe déjà) dans `data/`."
   ]
  },
  {
   "cell_type": "markdown",
   "id": "main-md-env",
   "metadata": {},
   "source": [
    "## 1. Chargement de l'Environnement (.env)"
   ]
  },
  {
   "cell_type": "code",
   "execution_count": 1,
   "id": "main-code-env",
   "metadata": {},
   "outputs": [
    {
     "name": "stdout",
     "output_type": "stream",
     "text": [
      ".env chargé: True\n",
      "LLM Model ID présent: True\n",
      "LLM API Key présent: True\n",
      "UI Passphrase présente: True\n"
     ]
    }
   ],
   "source": [
    "from dotenv import load_dotenv, find_dotenv\n",
    "import os\n",
    "\n",
    "loaded = load_dotenv(find_dotenv(), override=True)\n",
    "print(f\".env chargé: {loaded}\")\n",
    "\n",
    "# Vérification rapide de quelques variables clés (optionnel)\n",
    "print(f\"LLM Model ID présent: {'OPENAI_CHAT_MODEL_ID' in os.environ}\")\n",
    "print(f\"LLM API Key présent: {'OPENAI_API_KEY' in os.environ}\")\n",
    "print(f\"UI Passphrase présente: {'TEXT_CONFIG_PASSPHRASE' in os.environ}\")"
   ]
  },
  {
   "cell_type": "markdown",
   "id": "main-md-log",
   "metadata": {},
   "source": [
    "## 2. Configuration du Logging Global"
   ]
  },
  {
   "cell_type": "code",
   "execution_count": 2,
   "id": "main-code-log",
   "metadata": {},
   "outputs": [
    {
     "name": "stderr",
     "output_type": "stream",
     "text": [
      "15:47:24 [INFO] [root] Logging configuré.\n"
     ]
    }
   ],
   "source": [
    "import logging\n",
    "\n",
    "# Configuration de base - Les modules peuvent définir des loggers plus spécifiques\n",
    "logging.basicConfig(\n",
    "    level=logging.INFO, # Mettre DEBUG pour voir plus de détails\n",
    "    format='%(asctime)s [%(levelname)s] [%(name)s] %(message)s',\n",
    "    datefmt='%H:%M:%S'\n",
    ")\n",
    "\n",
    "# Réduire la verbosité de certaines bibliothèques\n",
    "logging.getLogger(\"httpx\").setLevel(logging.WARNING)\n",
    "logging.getLogger(\"openai\").setLevel(logging.WARNING)\n",
    "logging.getLogger(\"requests\").setLevel(logging.WARNING)\n",
    "logging.getLogger(\"urllib3\").setLevel(logging.WARNING)\n",
    "logging.getLogger(\"semantic_kernel.connectors.ai\").setLevel(logging.WARNING)\n",
    "logging.getLogger(\"semantic_kernel.kernel\").setLevel(logging.WARNING)\n",
    "logging.getLogger(\"semantic_kernel.functions\").setLevel(logging.WARNING)\n",
    "# Garder INFO pour l'orchestration et les agents\n",
    "logging.getLogger(\"Orchestration\").setLevel(logging.INFO)\n",
    "logging.getLogger(\"semantic_kernel.agents\").setLevel(logging.INFO)\n",
    "logging.getLogger(\"App.UI\").setLevel(logging.INFO) # Logger pour l'UI\n",
    "\n",
    "logging.info(\"Logging configuré.\")"
   ]
  },
  {
   "cell_type": "markdown",
   "id": "main-md-jvm",
   "metadata": {},
   "source": [
    "## 3. Initialisation de la JVM"
   ]
  },
  {
   "cell_type": "code",
   "execution_count": 3,
   "id": "main-code-jvm",
   "metadata": {},
   "outputs": [
    {
     "name": "stderr",
     "output_type": "stream",
     "text": [
      "15:47:24 [INFO] [root] Tentative d'initialisation de la JVM...\n",
      "15:47:24 [INFO] [Orchestration.JPype] \n",
      "--- Préparation et Initialisation de la JVM via JPype ---\n",
      "15:47:24 [INFO] [Orchestration.JPype] \n",
      "--- Vérification/Téléchargement des JARs Tweety v1.28 ---\n",
      "15:47:24 [INFO] [Orchestration.JPype] Vérification de l'accès à https://tweetyproject.org/builds/1.28/...\n",
      "15:47:25 [INFO] [Orchestration.JPype] ✔️ URL de base Tweety v1.28 accessible.\n",
      "15:47:25 [INFO] [Orchestration.JPype] \n",
      "--- Vérification/Téléchargement JAR Core ---\n",
      "15:47:25 [INFO] [Orchestration.JPype] ✔️ JAR Core 'org.tweetyproject.tweety-full-1.28-with-dependencies.jar': déjà présent.\n",
      "15:47:25 [INFO] [Orchestration.JPype] \n",
      "--- Vérification/Téléchargement des 32 JARs de modules ---\n"
     ]
    },
    {
     "data": {
      "application/vnd.jupyter.widget-view+json": {
       "model_id": "92d0eac2533c4787926031914f7f589f",
       "version_major": 2,
       "version_minor": 0
      },
      "text/plain": [
       "Modules JARs:   0%|          | 0/32 [00:00<?, ?it/s]"
      ]
     },
     "metadata": {},
     "output_type": "display_data"
    },
    {
     "name": "stderr",
     "output_type": "stream",
     "text": [
      "15:47:25 [INFO] [Orchestration.JPype] -> Modules: 0 téléchargés, 32/32 présents.\n",
      "15:47:25 [INFO] [Orchestration.JPype] \n",
      "--- Vérification/Téléchargement des 3 binaires natifs (Windows) ---\n"
     ]
    },
    {
     "data": {
      "application/vnd.jupyter.widget-view+json": {
       "model_id": "ce47a41d76a8487dafae6d697d414098",
       "version_major": 2,
       "version_minor": 0
      },
      "text/plain": [
       "Binaires Natifs:   0%|          | 0/3 [00:00<?, ?it/s]"
      ]
     },
     "metadata": {},
     "output_type": "display_data"
    },
    {
     "name": "stderr",
     "output_type": "stream",
     "text": [
      "15:47:25 [INFO] [Orchestration.JPype] -> Binaires natifs: 0 téléchargés, 3/3 présents.\n",
      "15:47:25 [INFO] [Orchestration.JPype]    Note: S'assurer que le chemin 'C:\\dev\\2025-Epita-Intelligence-Symbolique\\argumentation_analysis\\libs\\native' est inclus dans java.library.path lors du démarrage JVM.\n",
      "15:47:25 [INFO] [Orchestration.JPype] --- Fin Vérification/Téléchargement Tweety ---\n",
      "15:47:25 [INFO] [Orchestration.JPype] ℹ️ Variable d'environnement JAVA_HOME non définie.\n",
      "15:47:25 [INFO] [Orchestration.JPype] ℹ️ Tentative de détection via heuristiques spécifiques à l'OS...\n",
      "15:47:25 [INFO] [Orchestration.JPype]   1 installations Java potentielles trouvées par heuristique.\n",
      "15:47:25 [INFO] [Orchestration.JPype] ✔️ Répertoire Java Home valide trouvé via heuristique: C:\\Program Files\\Java\\jdk-21\n",
      "15:47:25 [INFO] [Orchestration.JPype] ✅ JAVA_HOME défini dynamiquement à 'C:\\Program Files\\Java\\jdk-21' pour cette session.\n",
      "15:47:25 [INFO] [Orchestration.JPype] ⏳ Tentative de démarrage JVM...\n",
      "15:47:25 [INFO] [Orchestration.JPype]    (Chemin JVM par défaut détecté par JPype: C:\\Program Files\\Java\\jdk-21\\bin\\server\\jvm.dll)\n",
      "15:47:25 [INFO] [Orchestration.JPype]    Classpath construit (33 JARs depuis 'libs').\n",
      "15:47:25 [INFO] [Orchestration.JPype]    Argument JVM natif ajouté: -Djava.library.path=C:\\dev\\2025-Epita-Intelligence-Symbolique\\argumentation_analysis\\libs\\native\n",
      "15:47:26 [INFO] [Orchestration.JPype] ✅ JVM démarrée avec succès et domaines enregistrés.\n",
      "15:47:26 [INFO] [Orchestration.JPype] \n",
      "✅ JVM prête pour utilisation.\n",
      "15:47:26 [INFO] [Orchestration.JPype] --- Fin Initialisation JVM ---\n",
      "15:47:26 [INFO] [root] ✅ JVM initialisée avec succès ou déjà active.\n"
     ]
    }
   ],
   "source": [
    "import logging\n",
    "from core.jvm_setup import initialize_jvm\n",
    "\n",
    "logging.info(\"Tentative d'initialisation de la JVM...\")\n",
    "# La fonction initialize_jvm gère maintenant aussi le téléchargement des JARs\n",
    "jvm_ready_status = initialize_jvm(lib_dir_path=\"libs\")\n",
    "\n",
    "if jvm_ready_status:\n",
    "    logging.info(\"✅ JVM initialisée avec succès ou déjà active.\")\n",
    "else:\n",
    "    logging.warning(\"⚠️ JVM n'a pas pu être initialisée. L'agent PropositionalLogicAgent ne fonctionnera pas.\")"
   ]
  },
  {
   "cell_type": "markdown",
   "id": "main-md-llm",
   "metadata": {},
   "source": [
    "## 4. Création du Service LLM"
   ]
  },
  {
   "cell_type": "code",
   "execution_count": 4,
   "id": "main-code-llm",
   "metadata": {},
   "outputs": [
    {
     "name": "stderr",
     "output_type": "stream",
     "text": [
      "15:47:34 [INFO] [root] Création du service LLM...\n",
      "15:47:34 [INFO] [Orchestration.LLM] --- Configuration du Service LLM (global_llm_service) ---\n",
      "15:47:34 [INFO] [Orchestration.LLM] Configuration Service: OpenAIChatCompletion...\n",
      "15:47:35 [INFO] [Orchestration.LLM] Service LLM OpenAI (gpt-4o-mini) créé avec ID 'global_llm_service'.\n",
      "15:47:35 [INFO] [root] ✅ Service LLM créé avec succès (ID: global_llm_service).\n"
     ]
    }
   ],
   "source": [
    "import logging\n",
    "from core.llm_service import create_llm_service\n",
    "\n",
    "llm_service = None\n",
    "try:\n",
    "    logging.info(\"Création du service LLM...\")\n",
    "    llm_service = create_llm_service() # Utilise l'ID par défaut\n",
    "    logging.info(f\"✅ Service LLM créé avec succès (ID: {llm_service.service_id}).\")\n",
    "except Exception as e:\n",
    "    logging.critical(f\"❌ Échec critique de la création du service LLM: {e}\", exc_info=True)\n",
    "    print(f\"❌ ERREUR: Impossible de créer le service LLM. Vérifiez la configuration .env et les logs.\")\n",
    "    # raise # Décommenter pour arrêter si LLM indispensable"
   ]
  },
  {
   "cell_type": "markdown",
   "id": "main-md-ui",
   "metadata": {},
   "source": [
    "## 5. Configuration de la Tâche via l'Interface Utilisateur\n",
    "\n",
    "La cellule suivante importe et exécute la fonction `configure_analysis_task` du module `ui.app`.\n",
    "\n",
    "Cela affichera l'interface utilisateur. Interagissez avec l'UI (sélectionnez une source, préparez/extrayez le texte si nécessaire) puis cliquez sur **\"Lancer l'Analyse\"**. Le texte préparé sera retourné et stocké pour l'étape suivante.\n",
    "\n",
    "**La cellule attendra la fin de votre interaction avec l'UI.**"
   ]
  },
  {
   "cell_type": "code",
   "execution_count": 5,
   "id": "main-code-ui",
   "metadata": {
    "scrolled": true
   },
   "outputs": [
    {
     "name": "stderr",
     "output_type": "stream",
     "text": [
      "15:47:35 [INFO] [App.UI.Config] Vérification de la phrase secrète 'TEXT_CONFIG_PASSPHRASE' dans .env...\n",
      "15:47:35 [INFO] [App.UI.Config] ✅ Phrase secrète trouvée. Dérivation de la clé...\n",
      "15:47:35 [INFO] [App.UI.Config] ✅ Clé de chiffrement dérivée et encodée.\n",
      "15:47:35 [INFO] [App.UI.Config] Cache répertoire assuré : C:\\dev\\2025-Epita-Intelligence-Symbolique\\argumentation_analysis\\text_cache\n",
      "15:47:35 [INFO] [App.UI.Config] Répertoire config UI assuré : C:\\dev\\2025-Epita-Intelligence-Symbolique\\argumentation_analysis\\data\n",
      "15:47:35 [INFO] [App.UI.Config] Répertoire temporaire assuré : C:\\dev\\2025-Epita-Intelligence-Symbolique\\argumentation_analysis\\temp_downloads\n",
      "15:47:35 [INFO] [App.UI.Config] ✅ Configuration chargée depuis extract_sources.json\n",
      "15:47:35 [INFO] [App.UI.Config] Config UI initialisée. 4 sources chargées.\n",
      "15:47:35 [INFO] [App.UI.Utils] Fonctions utilitaires UI définies.\n",
      "15:47:35 [CRITICAL] [root] ❌ ERREUR: Impossible d'importer l'UI: cannot import name 'CONFIG_FILE' from 'ui.config' (c:\\dev\\2025-Epita-Intelligence-Symbolique\\argumentation_analysis\\ui\\config.py)\n",
      "15:47:35 [WARNING] [root] \n",
      "❌ Aucun texte préparé via l'UI. L'analyse ne peut pas continuer.\n"
     ]
    },
    {
     "name": "stdout",
     "output_type": "stream",
     "text": [
      "❌ ERREUR d'importation de l'interface utilisateur: cannot import name 'CONFIG_FILE' from 'ui.config' (c:\\dev\\2025-Epita-Intelligence-Symbolique\\argumentation_analysis\\ui\\config.py). Vérifiez la structure du projet et les __init__.py.\n",
      "\n",
      "❌ Aucun texte préparé via l'UI. L'analyse ne peut pas continuer.\n"
     ]
    }
   ],
   "source": [
    "import logging\n",
    "import traceback\n",
    "\n",
    "texte_pour_analyse = None # Initialiser\n",
    "\n",
    "try:\n",
    "    # Importer la fonction UI depuis le module .py\n",
    "    # Assurez-vous que ce notebook est exécuté depuis la racine du projet\n",
    "    from ui.app import configure_analysis_task\n",
    "    logging.info(\"Fonction 'configure_analysis_task' importée depuis ui.app.\")\n",
    "\n",
    "    # Appeler la fonction pour afficher l'UI et obtenir le texte\n",
    "    logging.info(\"Lancement de l'interface de configuration...\")\n",
    "    texte_pour_analyse = configure_analysis_task() # Bloque jusqu'au clic sur \"Lancer\"\n",
    "\n",
    "except ImportError as e_import:\n",
    "    logging.critical(f\"❌ ERREUR: Impossible d'importer l'UI: {e_import}\")\n",
    "    print(f\"❌ ERREUR d'importation de l'interface utilisateur: {e_import}. Vérifiez la structure du projet et les __init__.py.\")\n",
    "except Exception as e_ui:\n",
    "    logging.error(f\"❌ Une erreur est survenue lors de l'exécution de l'interface utilisateur : {e_ui}\", exc_info=True)\n",
    "    print(f\"❌ Une erreur est survenue pendant l'exécution de l'UI : {e_ui}\")\n",
    "    traceback.print_exc()\n",
    "\n",
    "# Vérifier si on a bien reçu du texte après l'interaction UI\n",
    "if not texte_pour_analyse:\n",
    "    logging.warning(\"\\n❌ Aucun texte préparé via l'UI. L'analyse ne peut pas continuer.\")\n",
    "    print(\"\\n❌ Aucun texte préparé via l'UI. L'analyse ne peut pas continuer.\")\n",
    "else:\n",
    "    logging.info(f\"\\n✅ Texte prêt pour l'analyse (longueur: {len(texte_pour_analyse)}) récupéré via l'UI.\")\n",
    "    print(f\"\\n✅ Texte prêt pour l'analyse (longueur: {len(texte_pour_analyse)}). Passage à l'exécution.\")\n",
    "    # print(\"--- Extrait Texte --- \\n\", texte_pour_analyse[:500] + \"...\") # Décommenter pour voir extrait"
   ]
  },
  {
   "cell_type": "markdown",
   "id": "main-md-run",
   "metadata": {},
   "source": [
    "## 6. Exécution de l'Analyse Collaborative\n",
    "\n",
    "Si un texte a été préparé avec succès via l'UI et que le service LLM est disponible, cette cellule lance l'analyse collaborative en appelant la fonction `run_analysis_conversation`."
   ]
  },
  {
   "cell_type": "code",
   "execution_count": 6,
   "id": "main-code-run",
   "metadata": {},
   "outputs": [
    {
     "name": "stderr",
     "output_type": "stream",
     "text": [
      "15:47:35 [WARNING] [root] Analyse non lancée : aucun texte n'a été préparé via l'UI.\n"
     ]
    },
    {
     "name": "stdout",
     "output_type": "stream",
     "text": [
      "\n",
      " Analyse non lancée : aucun texte n'a été préparé via l'UI.\n"
     ]
    }
   ],
   "source": [
    "import nest_asyncio\n",
    "import asyncio\n",
    "import logging\n",
    "import traceback\n",
    "\n",
    "# Appliquer nest_asyncio pour compatibilité Jupyter\n",
    "nest_asyncio.apply()\n",
    "\n",
    "# Lancer seulement si on a un texte ET un service LLM valide\n",
    "if texte_pour_analyse and llm_service:\n",
    "    logging.info(\"\\n🚀 Tentative de lancement de l'exécution asynchrone de l'analyse...\")\n",
    "    print(\"\\n🚀 Lancement de l'analyse collaborative (peut prendre du temps)... \")\n",
    "    try:\n",
    "        # Importer la fonction d'orchestration\n",
    "        from orchestration.analysis_runner import run_analysis_conversation\n",
    "\n",
    "        # Exécuter la fonction d'analyse en passant le texte et le service LLM\n",
    "        # asyncio.run() gère la boucle d'événements\n",
    "        asyncio.run(run_analysis_conversation(\n",
    "            texte_a_analyser=texte_pour_analyse,\n",
    "            llm_service=llm_service\n",
    "        ))\n",
    "\n",
    "        logging.info(\"\\n🏁 Exécution asyncio.run terminée.\")\n",
    "        print(\"\\n🏁 Analyse terminée.\")\n",
    "\n",
    "    except ImportError as e_import_run:\n",
    "         logging.critical(f\"❌ ERREUR: Impossible d'importer 'run_analysis_conversation': {e_import_run}\")\n",
    "         print(f\"❌ ERREUR d'importation de la fonction d'orchestration: {e_import_run}\")\n",
    "    except Exception as e_analysis:\n",
    "        logging.error(f\"\\n❌ Une erreur est survenue pendant l'exécution de l'analyse : {e_analysis}\", exc_info=True)\n",
    "        print(f\"\\n❌ Une erreur est survenue pendant l'exécution de l'analyse : {e_analysis}\")\n",
    "        traceback.print_exc()\n",
    "\n",
    "elif not texte_pour_analyse:\n",
    "    logging.warning(\"Analyse non lancée : aucun texte n'a été préparé via l'UI.\")\n",
    "    print(\"\\n Analyse non lancée : aucun texte n'a été préparé via l'UI.\")\n",
    "else: # Implique que llm_service est None ou invalide\n",
    "     logging.error(\"Analyse non lancée : le service LLM n'a pas pu être configuré ou est invalide.\")\n",
    "     print(\"\\n Analyse non lancée : le service LLM n'a pas pu être configuré.\")"
   ]
  },
  {
   "cell_type": "markdown",
   "id": "main-md-results",
   "metadata": {},
   "source": [
    "## 7. Résultats et Conclusion\n",
    "\n",
    "Vérifiez les logs et l'état final JSON affichés par l'exécution précédente pour voir le résultat de l'analyse collaborative."
   ]
  },
  {
   "cell_type": "markdown",
   "id": "main-md-next",
   "metadata": {},
   "source": [
    "## 8. 🏁 Pistes d'Amélioration Futures\n",
    "\n",
    "*(Repris des notebooks précédents)*\n",
    "\n",
    "**Prochaines étapes possibles :**\n",
    "* **Activer & Finaliser PL:** Implémenter réellement les appels JPype/Tweety dans `PropositionalLogicPlugin._internal_execute_query` et tester de bout en bout l'exécution des requêtes logiques (parsing, query, interprétation).\n",
    "* **Affiner Analyse Sophismes:** Améliorer les instructions de `InformalAnalysisAgent` pour une exploration plus fine de la taxonomie (gestion de la profondeur, choix des branches) ou l'attribution de sophismes spécifiques basée sur les détails récupérés (`get_fallacy_details`).\n",
    "* **Externaliser Prompts & Config:** Déplacer les prompts et configurations (ex: noms agents, constantes) hors du code Python vers des fichiers dédiés (YAML, JSON, .env) pour une meilleure maintenabilité. Utiliser `kernel.import_plugin_from_directory`.\n",
    "* **Gestion Erreurs Agents:** Renforcer la capacité des agents à gérer les erreurs retournées par les outils (`FUNC_ERROR:`) et à adapter leur plan (ex: demander une clarification, réessayer, passer à autre chose).\n",
    "* **Nouveaux Agents/Capacités:** Implémenter des agents pour d'autres logiques (FOL, Modale), d'autres tâches (résumé, extraction d'entités) ou d'autres outils (recherche web, base de données).\n",
    "* **État RDF/KG:** Explorer le passage à une structure d'état plus riche et sémantiquement structurée en utilisant RDF/KG (avec `rdflib` ou une base de graphe) pour représenter les arguments, relations, et métadonnées de manière plus formelle.\n",
    "* **Interface Utilisateur:** Créer une interface (ex: avec Gradio, Streamlit) pour faciliter l'interaction et la visualisation de l'analyse (au-delà de l'UI de configuration initiale)."
   ]
  }
 ],
 "metadata": {
  "kernelspec": {
   "display_name": "Python (arg-analysis-venv)",
   "language": "python",
   "name": "arg-analysis-venv"
  },
  "language_info": {
   "codemirror_mode": {
    "name": "ipython",
    "version": 3
   },
   "file_extension": ".py",
   "mimetype": "text/x-python",
   "name": "python",
   "nbconvert_exporter": "python",
   "pygments_lexer": "ipython3",
   "version": "3.13.2"
  }
 },
 "nbformat": 4,
 "nbformat_minor": 5
}
